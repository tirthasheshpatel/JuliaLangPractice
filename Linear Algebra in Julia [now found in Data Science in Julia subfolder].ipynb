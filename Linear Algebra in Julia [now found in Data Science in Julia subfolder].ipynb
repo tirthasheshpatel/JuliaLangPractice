{
 "cells": [
  {
   "cell_type": "markdown",
   "metadata": {},
   "source": [
    "## A Premiere for Linear Algebre in Julia\n",
    "\n",
    "| method | parameters | returns | description | complexity |\n",
    "| ------ | ---------- | ------- | ----------- | ---------- |\n",
    "| `det` | `Array` | `Float64` | compute the determinant of a matrix | $\\mathcal{O}(n^3)$ |\n",
    "| `norm` | `Array` | `Float64` | compute the vector/matrix norm (for vectors L2-norm and for matrices frobenius norm) | $\\mathcal{O}(n)$ |\n",
    "| `inv` | `Array` | `Float64` | compute the inverse of a matrix | $\\mathcal{O}(n^3)$ |\n",
    "| `tr` | `Array` | `Float64` | compute the trace of a matrix | $\\mathcal{O}(n)$ |\n",
    "| `det` | `Array` | `Float64` | compute the determinant of a matrix | $\\mathcal{O}(n^3)$ |\n",
    "| `Symmetric` | `Array` | -- | create an instance of symetric matrix | -- |\n",
    "| `Hermitian` | `Array` | -- | create an instance of hermitian matrix | -- |"
   ]
  },
  {
   "cell_type": "code",
   "execution_count": null,
   "metadata": {},
   "outputs": [],
   "source": [
    "using LinearAlgebra"
   ]
  }
 ],
 "metadata": {
  "kernelspec": {
   "display_name": "Julia 1.4.2",
   "language": "julia",
   "name": "julia-1.4"
  },
  "language_info": {
   "file_extension": ".jl",
   "mimetype": "application/julia",
   "name": "julia",
   "version": "1.4.2"
  }
 },
 "nbformat": 4,
 "nbformat_minor": 2
}
