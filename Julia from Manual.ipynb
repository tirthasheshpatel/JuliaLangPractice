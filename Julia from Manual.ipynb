{
 "cells": [
  {
   "cell_type": "markdown",
   "metadata": {},
   "source": [
    "## 1. Integers and Floating Point Numbers\n",
    "\n",
    "| Types Supported |\n",
    "| --------------- |\n",
    "| `Int8` |\n",
    "| `UInt8` |\n",
    "| `Int16` |\n",
    "| `UInt16` |\n",
    "| `Int32` |\n",
    "| `UInt32` |\n",
    "| `Int64` |\n",
    "| `UInt64` |\n",
    "| `Int128` |\n",
    "| `UInt128` |\n",
    "| `Bool` |\n",
    "| `Float16` |\n",
    "| `Float32` |\n",
    "| `Float64` |"
   ]
  },
  {
   "cell_type": "code",
   "execution_count": 1,
   "metadata": {},
   "outputs": [],
   "source": [
    "using BenchmarkTools"
   ]
  },
  {
   "cell_type": "code",
   "execution_count": 2,
   "metadata": {},
   "outputs": [
    {
     "data": {
      "text/plain": [
       "64"
      ]
     },
     "execution_count": 2,
     "metadata": {},
     "output_type": "execute_result"
    }
   ],
   "source": [
    "Sys.WORD_SIZE  # I have a Win64 system so the output will be => 64"
   ]
  },
  {
   "cell_type": "code",
   "execution_count": 3,
   "metadata": {},
   "outputs": [
    {
     "data": {
      "text/plain": [
       "0xdeadbeef"
      ]
     },
     "metadata": {},
     "output_type": "display_data"
    },
    {
     "data": {
      "text/plain": [
       "0x0a"
      ]
     },
     "metadata": {},
     "output_type": "display_data"
    },
    {
     "data": {
      "text/plain": [
       "\"0000000000000000000000000000000000000000000000000000000001111011\""
      ]
     },
     "metadata": {},
     "output_type": "display_data"
    },
    {
     "data": {
      "text/plain": [
       "\"0000000000000000000000000000000000000000000000000000000000000000\""
      ]
     },
     "metadata": {},
     "output_type": "display_data"
    }
   ],
   "source": [
    "display(0xdeadbeef)        # Hexadecimal numbers\n",
    "display(0b01010)           # Binary number\n",
    "display(bitstring(123))    # Returns the bit string of a integer number\n",
    "display(bitstring(0.0))    # Returns the bitstring of a floating point number"
   ]
  },
  {
   "cell_type": "code",
   "execution_count": 4,
   "metadata": {},
   "outputs": [
    {
     "ename": "DivideError",
     "evalue": "DivideError: integer division error",
     "output_type": "error",
     "traceback": [
      "DivideError: integer division error",
      "",
      "Stacktrace:",
      " [1] rem(::Int64, ::Int64) at .\\int.jl:231",
      " [2] top-level scope at In[4]:1"
     ]
    }
   ],
   "source": [
    "1 % 0 # Throws a divide error"
   ]
  },
  {
   "cell_type": "code",
   "execution_count": 5,
   "metadata": {},
   "outputs": [
    {
     "ename": "DivideError",
     "evalue": "DivideError: integer division error",
     "output_type": "error",
     "traceback": [
      "DivideError: integer division error",
      "",
      "Stacktrace:",
      " [1] rem(::Int64, ::Int64) at .\\int.jl:231",
      " [2] top-level scope at In[5]:1"
     ]
    }
   ],
   "source": [
    "rem(1, 0) # Throws a divide error"
   ]
  },
  {
   "cell_type": "code",
   "execution_count": 6,
   "metadata": {},
   "outputs": [
    {
     "data": {
      "text/plain": [
       "Float16(0.000977)"
      ]
     },
     "metadata": {},
     "output_type": "display_data"
    },
    {
     "data": {
      "text/plain": [
       "1.1920929f-7"
      ]
     },
     "metadata": {},
     "output_type": "display_data"
    },
    {
     "data": {
      "text/plain": [
       "2.220446049250313e-16"
      ]
     },
     "metadata": {},
     "output_type": "display_data"
    }
   ],
   "source": [
    "display(eps(Float16)) # Displays the constant to get the\n",
    "display(eps(Float32)) # next floating point number in the\n",
    "display(eps(Float64)) # of the required bits"
   ]
  },
  {
   "cell_type": "markdown",
   "metadata": {},
   "source": [
    "## 2. Mathematical Operations and Elementary functions\n",
    "\n",
    "| Rounding Functions |\n",
    "| ------------------ |\n",
    "| `round(x)` |\n",
    "| `round(dtype, x)` |\n",
    "| `floor(x)` |\n",
    "| `floor(dtype, x)` |\n",
    "| `ciel(x)` |\n",
    "| `ciel(dtype, x)` |\n",
    "| `trunc(x)` |\n",
    "| `trunc(dtype, x)` |\n",
    "\n",
    "| Division Functions |\n",
    "| ------------------ |\n",
    "|  |"
   ]
  },
  {
   "cell_type": "code",
   "execution_count": 7,
   "metadata": {},
   "outputs": [
    {
     "data": {
      "text/plain": [
       "true"
      ]
     },
     "execution_count": 7,
     "metadata": {},
     "output_type": "execute_result"
    }
   ],
   "source": [
    "0.0 == -0.0 # Value comparision"
   ]
  },
  {
   "cell_type": "code",
   "execution_count": 8,
   "metadata": {},
   "outputs": [
    {
     "data": {
      "text/plain": [
       "false"
      ]
     },
     "execution_count": 8,
     "metadata": {},
     "output_type": "execute_result"
    }
   ],
   "source": [
    "NaN == NaN # NaN is not equal to NaN"
   ]
  },
  {
   "cell_type": "code",
   "execution_count": 9,
   "metadata": {},
   "outputs": [
    {
     "data": {
      "text/plain": [
       "false"
      ]
     },
     "execution_count": 9,
     "metadata": {},
     "output_type": "execute_result"
    }
   ],
   "source": [
    "[1 NaN] == [1 NaN] # So, this also returns false"
   ]
  },
  {
   "cell_type": "code",
   "execution_count": 10,
   "metadata": {},
   "outputs": [
    {
     "data": {
      "text/plain": [
       "true"
      ]
     },
     "execution_count": 10,
     "metadata": {},
     "output_type": "execute_result"
    }
   ],
   "source": [
    "1 < 2 <= 2 < 3 == 3 > 2 >= 1 == 1 > 0 # Expressions can be chained"
   ]
  },
  {
   "cell_type": "code",
   "execution_count": 11,
   "metadata": {},
   "outputs": [
    {
     "data": {
      "text/plain": [
       "1×10 BitArray{2}:\n",
       " 0  1  0  0  0  0  0  0  0  1"
      ]
     },
     "execution_count": 11,
     "metadata": {},
     "output_type": "execute_result"
    }
   ],
   "source": [
    "0 .< [0 1 2 3 4 5 4 3 2 1] .< 2 # Element-wise value comparision"
   ]
  },
  {
   "cell_type": "code",
   "execution_count": 12,
   "metadata": {},
   "outputs": [
    {
     "data": {
      "text/plain": [
       "false"
      ]
     },
     "metadata": {},
     "output_type": "display_data"
    },
    {
     "data": {
      "text/plain": [
       "true"
      ]
     },
     "metadata": {},
     "output_type": "display_data"
    },
    {
     "data": {
      "text/plain": [
       "true"
      ]
     },
     "metadata": {},
     "output_type": "display_data"
    },
    {
     "data": {
      "text/plain": [
       "false"
      ]
     },
     "metadata": {},
     "output_type": "display_data"
    },
    {
     "data": {
      "text/plain": [
       "true"
      ]
     },
     "metadata": {},
     "output_type": "display_data"
    }
   ],
   "source": [
    "# Julia provides additional functions to test numbers for special values,\n",
    "# which can be useful in situations like hash key comparisons\n",
    "display(isequal(0.0, -0.0))                       # Hash Key comparision\n",
    "display(isfinite(10000000000000000000000000.0))   # Is it finite?\n",
    "display(isinf(Inf32))                             # Is it infinite?\n",
    "display(isinf(NaN))                               # Is it infinite?\n",
    "display(isnan(NaN64))"
   ]
  },
  {
   "cell_type": "code",
   "execution_count": 13,
   "metadata": {},
   "outputs": [
    {
     "data": {
      "text/plain": [
       "5×5 Array{Float64,2}:\n",
       " 0.0552384  0.90968   0.0181371   0.885221    0.0224983\n",
       " 2.66467    0.105989  0.00303145  2.3591      0.000679161\n",
       " 1.02051    4.95485   0.0694276   0.00225464  0.702997\n",
       " 0.199118   1.13412   0.0762447   1.80769     0.00180788\n",
       " 1.01977    0.310666  0.083383    0.610742    0.388838"
      ]
     },
     "metadata": {},
     "output_type": "display_data"
    },
    {
     "data": {
      "text/plain": [
       "5×5 Array{Float64,2}:\n",
       " -0.794325  -0.704937   -0.246761    2.38518   0.0102218\n",
       " -0.619533   0.0476841   0.619042   -1.00628   0.20097\n",
       "  2.79447   -0.0690706   0.338141   -1.88956  -0.652259\n",
       " -1.47933   -2.79507    -0.337554    3.84311   0.409882\n",
       "  0.661776  -0.244643    0.0649537  -1.43031   0.734665"
      ]
     },
     "metadata": {},
     "output_type": "display_data"
    }
   ],
   "source": [
    "f(x) = x^2\n",
    "x = randn(5, 5)\n",
    "display(f.(x))\n",
    "display(f(x))"
   ]
  },
  {
   "cell_type": "code",
   "execution_count": 14,
   "metadata": {},
   "outputs": [],
   "source": [
    "using Base"
   ]
  },
  {
   "cell_type": "code",
   "execution_count": 15,
   "metadata": {},
   "outputs": [
    {
     "name": "stdout",
     "output_type": "stream",
     "text": [
      "11 12 17\n",
      "0 1 1\n"
     ]
    }
   ],
   "source": [
    "println(Base.operator_precedence(:+), \" \", Base.operator_precedence(:*), \" \", Base.operator_precedence(:.))\n",
    "println(Base.operator_precedence(:sin), \" \", Base.operator_precedence(:+=), \" \", Base.operator_precedence(:(=)))"
   ]
  },
  {
   "cell_type": "code",
   "execution_count": 16,
   "metadata": {},
   "outputs": [
    {
     "data": {
      "text/plain": [
       "-4"
      ]
     },
     "execution_count": 16,
     "metadata": {},
     "output_type": "execute_result"
    }
   ],
   "source": [
    "-4 % 5 # true division unlike python which is good :-)"
   ]
  },
  {
   "cell_type": "markdown",
   "metadata": {},
   "source": [
    "## 3. Convertions\n",
    "\n",
    "Julia supports three forms of numerical conversion, which differ in their handling of inexact conversions.\n",
    "\n",
    "The notation T(x) or convert(T,x) converts x to a value of type T.\n",
    "\n",
    " - If T is a floating-point type, the result is the nearest representable value, which could be positive or negative infinity.\n",
    " - If T is an integer type, an InexactError is raised if x is not representable by T.\n",
    " - x % T converts an integer x to a value of integer type T congruent to x modulo 2^n, where n is the number of bits in T. In other words, the binary representation is truncated to fit.\n",
    "\n",
    "The Rounding functions take a type T as an optional argument. For example, round(Int,x) is a shorthand for Int(round(x))."
   ]
  },
  {
   "cell_type": "code",
   "execution_count": 17,
   "metadata": {},
   "outputs": [],
   "source": [
    "import Base:convert"
   ]
  },
  {
   "cell_type": "code",
   "execution_count": 18,
   "metadata": {},
   "outputs": [
    {
     "name": "stdout",
     "output_type": "stream",
     "text": [
      "127 % Int8 = 127\n",
      "128 % Int8 = -128\n",
      "round(Int8, 127.4) = 127\n"
     ]
    },
    {
     "ename": "InexactError",
     "evalue": "InexactError: trunc(Int8, 128.0)",
     "output_type": "error",
     "traceback": [
      "InexactError: trunc(Int8, 128.0)",
      "",
      "Stacktrace:",
      " [1] trunc at .\\float.jl:682 [inlined]",
      " [2] round(::Type{Int8}, ::Float64) at .\\float.jl:367",
      " [3] top-level scope at In[18]:4"
     ]
    }
   ],
   "source": [
    "@show 127 % Int8\n",
    "@show 128 % Int8\n",
    "@show round(Int8,127.4)\n",
    "round(Int8,127.6)"
   ]
  },
  {
   "cell_type": "code",
   "execution_count": 19,
   "metadata": {},
   "outputs": [
    {
     "data": {
      "text/html": [
       "convert(::<b>Type{T}</b>, x::<b>Number</b>)<i> where T<:Number</i> in Base at <a href=\"https://github.com/JuliaLang/julia/tree/44fa15b1502a45eac76c9017af94332d4557b251/base/number.jl#L7\" target=\"_blank\">number.jl:7</a>"
      ],
      "text/plain": [
       "convert(::Type{T}, x::Number) where T<:Number in Base at number.jl:7"
      ]
     },
     "execution_count": 19,
     "metadata": {},
     "output_type": "execute_result"
    }
   ],
   "source": [
    "@which convert(Complex{Int32}, 1+2im)"
   ]
  },
  {
   "cell_type": "code",
   "execution_count": 20,
   "metadata": {},
   "outputs": [
    {
     "data": {
      "text/plain": [
       "convert (generic function with 184 methods)"
      ]
     },
     "execution_count": 20,
     "metadata": {},
     "output_type": "execute_result"
    }
   ],
   "source": [
    "# You can overload convert method with user defined datatypes\n",
    "convert(::Type{Int8}, x::String) = [Number(i) for i in x]"
   ]
  },
  {
   "cell_type": "code",
   "execution_count": 21,
   "metadata": {},
   "outputs": [
    {
     "data": {
      "text/plain": [
       "5-element Array{UInt32,1}:\n",
       " 0x00000074\n",
       " 0x00000069\n",
       " 0x00000072\n",
       " 0x00000074\n",
       " 0x00000068"
      ]
     },
     "execution_count": 21,
     "metadata": {},
     "output_type": "execute_result"
    }
   ],
   "source": [
    "convert(Int8, \"tirth\")"
   ]
  },
  {
   "cell_type": "markdown",
   "metadata": {},
   "source": [
    "## 4. Signed and absolute valued functions\n",
    "\n",
    "| Function | Description |\n",
    "| -------- | ----------- |\n",
    "| `abs(x)` | Abs. |\n",
    "| `abs2(x)` | Absolute value squared! Can be useful for finding euclidean distance. |\n",
    "| `sign(x)` | Sign. |\n",
    "| `signbit(x)` | Indicating weather the signbit is on or off. |\n",
    "| `copysign(x, y)` | A value with magnitude of x and sign of y. |\n",
    "| `flipsign(x, y)` | A value with magnitude of x and sign of x\\*y |"
   ]
  },
  {
   "cell_type": "code",
   "execution_count": 22,
   "metadata": {},
   "outputs": [
    {
     "name": "stdout",
     "output_type": "stream",
     "text": [
      "abs(-3 + 4im) = 5.0\n",
      "abs2(-3 + 4im) = 25\n",
      "sign(-3) = -1\n",
      "sign(3) = 1\n",
      "sign(0) = 0\n",
      "signbit(3) = false\n",
      "signbit(-3) = true\n",
      "copysign(3, -4) = -3\n",
      "flipsign(-3, -4) = 3\n"
     ]
    }
   ],
   "source": [
    "@show abs(-3 + 4im);\n",
    "@show abs2(-3 + 4im);\n",
    "@show sign(-3);\n",
    "@show sign(3);\n",
    "@show sign(0);\n",
    "@show signbit(3);\n",
    "@show signbit(-3);\n",
    "@show copysign(3, -4);\n",
    "@show flipsign(-3, -4);"
   ]
  },
  {
   "cell_type": "markdown",
   "metadata": {},
   "source": [
    "## 5. Complex and Rational Numbers"
   ]
  },
  {
   "cell_type": "code",
   "execution_count": 23,
   "metadata": {},
   "outputs": [
    {
     "name": "stdout",
     "output_type": "stream",
     "text": [
      "(angle(2 + 2im) / pi) * 180 = 45.0\n",
      "sqrt(-1 + 0im) = 0.0 + 1.0im\n",
      "isequal(1, 1 + 0im) = true\n",
      "4 // 8 = 1//2\n",
      "6 // 200 = 3//100\n",
      "5 // 8 * 3 // 12 = 5//32\n",
      "3 // 4 + 2 // 8 = 1//1\n",
      "float(3 // 2) = 1.5\n",
      "isequal(3 // 2, 3 / 2) = true\n",
      "3 // 4 * 10 = 15//2\n",
      "3 // 4 * 10.0 = 7.5\n"
     ]
    }
   ],
   "source": [
    "# New to complex numbers only.\n",
    "@show angle(2 + 2im) / pi * 180\n",
    "@show sqrt(-1 + 0im)\n",
    "@show isequal(1, 1 + 0im)\n",
    "# Rational Numbers and thier unique operations\n",
    "@show 4 // 8\n",
    "@show 6 // 200\n",
    "@show 5 // 8 * 3 // 12\n",
    "@show 3 // 4 + 2 // 8\n",
    "@show float(3 // 2)\n",
    "@show isequal(3 // 2, 3/2);\n",
    "# Floating point numbers have highest precedence.\n",
    "# So, rantional numbers get typecasted to float\n",
    "# when operated with a float. But rational numbers have\n",
    "# a higher precedence than int so they remain rational\n",
    "# when operated with an int.\n",
    "@show 3 // 4 * (10)\n",
    "@show 3 // 4 * (10.);"
   ]
  },
  {
   "cell_type": "markdown",
   "metadata": {},
   "source": [
    "## 6. Strings!!\n",
    "\n",
    "Some things to note:\n",
    " - Strings in Julia support all unicode characters with UTF-8 encoding.\n",
    " - All string types are subtypes of `AbstractString`. If you create a function expecting a string argument, you should declare the type as `AbstractString` in order to accept any string type.\n",
    " - Strings are immutable in Julia! Once assigned, they cannot be changed.\n",
    " - Char is implemented as an `AbstractChar` and is a 32 bit primitive type."
   ]
  },
  {
   "cell_type": "code",
   "execution_count": 24,
   "metadata": {},
   "outputs": [
    {
     "data": {
      "text/plain": [
       "false"
      ]
     },
     "execution_count": 24,
     "metadata": {},
     "output_type": "execute_result"
    }
   ],
   "source": [
    "isvalid(Char, 0x1f0000)"
   ]
  },
  {
   "cell_type": "code",
   "execution_count": 25,
   "metadata": {},
   "outputs": [
    {
     "name": "stdout",
     "output_type": "stream",
     "text": [
      "name[1] = 'T'\n",
      "name[end] = 'l'\n",
      "name[end - 1] = 'e'\n",
      "name[7:9] = \"Pat\"\n",
      "name[7:end] = \"Patel\"\n",
      "name[6:6] = \" \"\n",
      "name[6] = ' '\n",
      "SubString(name, 7, 9) = \"Pat\"\n"
     ]
    }
   ],
   "source": [
    "# Interesting use of `end`\n",
    "name = \"Tirth Patel\"\n",
    "@show name[1]\n",
    "@show name[end]\n",
    "@show name[end-1]\n",
    "# Slicing in Julia!\n",
    "@show name[7:9]   # 8 inclusive!!!!\n",
    "@show name[7:end]\n",
    "# Notice that name[k] and nake[k:k] don't give the same results!\n",
    "@show name[6:6] # string output\n",
    "@show name[6] # char output\n",
    "# SubString is another type of string which sub classes `AbstractString`\n",
    "# and can be created using `SubString`.\n",
    "@show SubString(name, 7, 9);"
   ]
  },
  {
   "cell_type": "code",
   "execution_count": 26,
   "metadata": {},
   "outputs": [
    {
     "data": {
      "text/plain": [
       "String"
      ]
     },
     "execution_count": 26,
     "metadata": {},
     "output_type": "execute_result"
    }
   ],
   "source": [
    "typeof(name[6:9])"
   ]
  },
  {
   "cell_type": "code",
   "execution_count": 27,
   "metadata": {},
   "outputs": [
    {
     "data": {
      "text/plain": [
       "SubString{String}"
      ]
     },
     "execution_count": 27,
     "metadata": {},
     "output_type": "execute_result"
    }
   ],
   "source": [
    "typeof(SubString(name, 6, 9))"
   ]
  },
  {
   "cell_type": "markdown",
   "metadata": {},
   "source": [
    "#### Note : `SubString` creates a VIEW while slicing creates a COPY!"
   ]
  },
  {
   "cell_type": "code",
   "execution_count": 28,
   "metadata": {},
   "outputs": [
    {
     "name": "stdout",
     "output_type": "stream",
     "text": [
      "  91.121 ns (1 allocation: 1008 bytes)\n",
      "  77.996 ns (1 allocation: 32 bytes)\n"
     ]
    }
   ],
   "source": [
    "# This shows that `SubString` creates a view while slicing creates a copy!!\n",
    "str = \"wow this is awesome\" ^ 100\n",
    "@btime str[6:900]\n",
    "@btime SubString(str, 6, 900);"
   ]
  },
  {
   "cell_type": "markdown",
   "metadata": {},
   "source": [
    "### 6.1. Unicode and UTF-8\n",
    "\n",
    "Whether these Unicode characters are displayed as escapes or shown as special characters depends on your terminal's locale settings and its support for Unicode. String literals are encoded using the UTF-8 encoding. UTF-8 is a variable-width encoding, meaning that not all characters are encoded in the same number of bytes (\"code units\"). In UTF-8, ASCII characters — i.e. those with code points less than 0x80 (128) – are encoded as they are in ASCII, using a single byte, while code points 0x80 and above are encoded using multiple bytes — up to four per character\n",
    "\n",
    "String indices in Julia refer to code units (= bytes for UTF-8), the fixed-width building blocks that are used to encode arbitrary characters (code points). This means that not every index into a `String` is necessarily a valid index for a character. If you index into a string at such an invalid byte index, an error is thrown"
   ]
  },
  {
   "cell_type": "code",
   "execution_count": 29,
   "metadata": {},
   "outputs": [
    {
     "data": {
      "text/plain": [
       "\"∀ x ∃ y\""
      ]
     },
     "execution_count": 29,
     "metadata": {},
     "output_type": "execute_result"
    }
   ],
   "source": [
    "s = \"\\u2200 x \\u2203 y\""
   ]
  },
  {
   "cell_type": "code",
   "execution_count": 30,
   "metadata": {},
   "outputs": [
    {
     "ename": "StringIndexError",
     "evalue": "StringIndexError(\"∀ x ∃ y\", 2)",
     "output_type": "error",
     "traceback": [
      "StringIndexError(\"∀ x ∃ y\", 2)",
      "",
      "Stacktrace:",
      " [1] string_index_err(::String, ::Int64) at .\\strings\\string.jl:12",
      " [2] getindex_continued(::String, ::Int64, ::UInt32) at .\\strings\\string.jl:220",
      " [3] getindex(::String, ::Int64) at .\\strings\\string.jl:213",
      " [4] top-level scope at In[30]:1"
     ]
    }
   ],
   "source": [
    "# Error because In this case, the character ∀ is a three-byte character,\n",
    "# so the indices 2 and 3 are invalid and the next character's index is 4.\n",
    "s[2]"
   ]
  },
  {
   "cell_type": "code",
   "execution_count": 31,
   "metadata": {},
   "outputs": [
    {
     "name": "stdout",
     "output_type": "stream",
     "text": [
      "nextind(s, 1) = 4\n"
     ]
    }
   ],
   "source": [
    "# this next valid index can be computed by nextind(s,1), and the next index after that by nextind(s,4) and so on.\n",
    "@show nextind(s, 1);"
   ]
  },
  {
   "cell_type": "code",
   "execution_count": 32,
   "metadata": {},
   "outputs": [
    {
     "ename": "StringIndexError",
     "evalue": "StringIndexError(\"∀ x ∃ y\", 9)",
     "output_type": "error",
     "traceback": [
      "StringIndexError(\"∀ x ∃ y\", 9)",
      "",
      "Stacktrace:",
      " [1] string_index_err(::String, ::Int64) at .\\strings\\string.jl:12",
      " [2] getindex_continued(::String, ::Int64, ::UInt32) at .\\strings\\string.jl:220",
      " [3] getindex(::String, ::Int64) at .\\strings\\string.jl:213",
      " [4] top-level scope at In[32]:1"
     ]
    }
   ],
   "source": [
    "# Since end is always the last valid index into a collection,\n",
    "# end-1 references an invalid byte index if the second-to-last\n",
    "# character is multibyte\n",
    "s[end-2]"
   ]
  },
  {
   "cell_type": "code",
   "execution_count": 33,
   "metadata": {},
   "outputs": [
    {
     "name": "stdout",
     "output_type": "stream",
     "text": [
      "s[prevind(s, end, 1)] = ' '\n"
     ]
    }
   ],
   "source": [
    "# similarly you can use `prevind`\n",
    "@show s[prevind(s, end, 1)];"
   ]
  },
  {
   "cell_type": "code",
   "execution_count": 34,
   "metadata": {},
   "outputs": [
    {
     "name": "stdout",
     "output_type": "stream",
     "text": [
      "[i for i = s] = ['∀', ' ', 'x', ' ', '∃', ' ', 'y']\n",
      "∀   x   ∃   y "
     ]
    }
   ],
   "source": [
    "# We can also use `firstindex` and `lastindex` in a `for` loop\n",
    "@show [i for i in s]\n",
    "# We can also use `firstindex` and `lastindex` in a big `for` loop!!\n",
    "for i in firstindex(s):lastindex(s)\n",
    "    try\n",
    "        print(s[i], \" \");\n",
    "    catch\n",
    "        # ignore index error\n",
    "    end\n",
    "end"
   ]
  },
  {
   "cell_type": "code",
   "execution_count": 35,
   "metadata": {},
   "outputs": [
    {
     "name": "stdout",
     "output_type": "stream",
     "text": [
      "search: \u001b[0m\u001b[1me\u001b[22m\u001b[0m\u001b[1ma\u001b[22m\u001b[0m\u001b[1mc\u001b[22m\u001b[0m\u001b[1mh\u001b[22m\u001b[0m\u001b[1mi\u001b[22m\u001b[0m\u001b[1mn\u001b[22m\u001b[0m\u001b[1md\u001b[22m\u001b[0m\u001b[1me\u001b[22m\u001b[0m\u001b[1mx\u001b[22m\n",
      "\n"
     ]
    },
    {
     "data": {
      "text/latex": [
       "\\begin{verbatim}\n",
       "eachindex(A...)\n",
       "\\end{verbatim}\n",
       "Create an iterable object for visiting each index of an \\texttt{AbstractArray} \\texttt{A} in an efficient manner. For array types that have opted into fast linear indexing (like \\texttt{Array}), this is simply the range \\texttt{1:length(A)}. For other array types, return a specialized Cartesian range to efficiently index into the array with indices specified for every dimension. For other iterables, including strings and dictionaries, return an iterator object supporting arbitrary index types (e.g. unevenly spaced or non-integer indices).\n",
       "\n",
       "If you supply more than one \\texttt{AbstractArray} argument, \\texttt{eachindex} will create an iterable object that is fast for all arguments (a \\href{@ref}{\\texttt{UnitRange}} if all inputs have fast linear indexing, a \\href{@ref}{\\texttt{CartesianIndices}} otherwise). If the arrays have different sizes and/or dimensionalities, a DimensionMismatch exception will be thrown.\n",
       "\n",
       "\\section{Examples}\n",
       "\\begin{verbatim}\n",
       "julia> A = [1 2; 3 4];\n",
       "\n",
       "julia> for i in eachindex(A) # linear indexing\n",
       "           println(i)\n",
       "       end\n",
       "1\n",
       "2\n",
       "3\n",
       "4\n",
       "\n",
       "julia> for i in eachindex(view(A, 1:2, 1:1)) # Cartesian indexing\n",
       "           println(i)\n",
       "       end\n",
       "CartesianIndex(1, 1)\n",
       "CartesianIndex(2, 1)\n",
       "\\end{verbatim}\n"
      ],
      "text/markdown": [
       "```\n",
       "eachindex(A...)\n",
       "```\n",
       "\n",
       "Create an iterable object for visiting each index of an `AbstractArray` `A` in an efficient manner. For array types that have opted into fast linear indexing (like `Array`), this is simply the range `1:length(A)`. For other array types, return a specialized Cartesian range to efficiently index into the array with indices specified for every dimension. For other iterables, including strings and dictionaries, return an iterator object supporting arbitrary index types (e.g. unevenly spaced or non-integer indices).\n",
       "\n",
       "If you supply more than one `AbstractArray` argument, `eachindex` will create an iterable object that is fast for all arguments (a [`UnitRange`](@ref) if all inputs have fast linear indexing, a [`CartesianIndices`](@ref) otherwise). If the arrays have different sizes and/or dimensionalities, a DimensionMismatch exception will be thrown.\n",
       "\n",
       "# Examples\n",
       "\n",
       "```jldoctest\n",
       "julia> A = [1 2; 3 4];\n",
       "\n",
       "julia> for i in eachindex(A) # linear indexing\n",
       "           println(i)\n",
       "       end\n",
       "1\n",
       "2\n",
       "3\n",
       "4\n",
       "\n",
       "julia> for i in eachindex(view(A, 1:2, 1:1)) # Cartesian indexing\n",
       "           println(i)\n",
       "       end\n",
       "CartesianIndex(1, 1)\n",
       "CartesianIndex(2, 1)\n",
       "```\n"
      ],
      "text/plain": [
       "\u001b[36m  eachindex(A...)\u001b[39m\n",
       "\n",
       "  Create an iterable object for visiting each index of an \u001b[36mAbstractArray\u001b[39m \u001b[36mA\u001b[39m in\n",
       "  an efficient manner. For array types that have opted into fast linear\n",
       "  indexing (like \u001b[36mArray\u001b[39m), this is simply the range \u001b[36m1:length(A)\u001b[39m. For other array\n",
       "  types, return a specialized Cartesian range to efficiently index into the\n",
       "  array with indices specified for every dimension. For other iterables,\n",
       "  including strings and dictionaries, return an iterator object supporting\n",
       "  arbitrary index types (e.g. unevenly spaced or non-integer indices).\n",
       "\n",
       "  If you supply more than one \u001b[36mAbstractArray\u001b[39m argument, \u001b[36meachindex\u001b[39m will create an\n",
       "  iterable object that is fast for all arguments (a \u001b[36mUnitRange\u001b[39m if all inputs\n",
       "  have fast linear indexing, a \u001b[36mCartesianIndices\u001b[39m otherwise). If the arrays have\n",
       "  different sizes and/or dimensionalities, a DimensionMismatch exception will\n",
       "  be thrown.\n",
       "\n",
       "\u001b[1m  Examples\u001b[22m\n",
       "\u001b[1m  ≡≡≡≡≡≡≡≡≡≡\u001b[22m\n",
       "\n",
       "\u001b[36m  julia> A = [1 2; 3 4];\u001b[39m\n",
       "\u001b[36m  \u001b[39m\n",
       "\u001b[36m  julia> for i in eachindex(A) # linear indexing\u001b[39m\n",
       "\u001b[36m             println(i)\u001b[39m\n",
       "\u001b[36m         end\u001b[39m\n",
       "\u001b[36m  1\u001b[39m\n",
       "\u001b[36m  2\u001b[39m\n",
       "\u001b[36m  3\u001b[39m\n",
       "\u001b[36m  4\u001b[39m\n",
       "\u001b[36m  \u001b[39m\n",
       "\u001b[36m  julia> for i in eachindex(view(A, 1:2, 1:1)) # Cartesian indexing\u001b[39m\n",
       "\u001b[36m             println(i)\u001b[39m\n",
       "\u001b[36m         end\u001b[39m\n",
       "\u001b[36m  CartesianIndex(1, 1)\u001b[39m\n",
       "\u001b[36m  CartesianIndex(2, 1)\u001b[39m"
      ]
     },
     "execution_count": 35,
     "metadata": {},
     "output_type": "execute_result"
    }
   ],
   "source": [
    "?eachindex # Returns a `iterable` or `collections` object"
   ]
  },
  {
   "cell_type": "code",
   "execution_count": 36,
   "metadata": {},
   "outputs": [
    {
     "data": {
      "text/plain": [
       "7-element Array{Int64,1}:\n",
       "  1\n",
       "  4\n",
       "  5\n",
       "  6\n",
       "  7\n",
       " 10\n",
       " 11"
      ]
     },
     "execution_count": 36,
     "metadata": {},
     "output_type": "execute_result"
    }
   ],
   "source": [
    "collect(eachindex(s))"
   ]
  },
  {
   "cell_type": "code",
   "execution_count": 37,
   "metadata": {},
   "outputs": [
    {
     "data": {
      "text/plain": [
       "(true, true)"
      ]
     },
     "execution_count": 37,
     "metadata": {},
     "output_type": "execute_result"
    }
   ],
   "source": [
    "\"Hello World\" == \"Hello World\", \"1 + 2 = 3\" == \"1 + 2 = $(1+2)\""
   ]
  },
  {
   "cell_type": "markdown",
   "metadata": {},
   "source": [
    "### 6.2. String Methods!"
   ]
  },
  {
   "cell_type": "code",
   "execution_count": 38,
   "metadata": {},
   "outputs": [
    {
     "data": {
      "text/plain": [
       "4"
      ]
     },
     "execution_count": 38,
     "metadata": {},
     "output_type": "execute_result"
    }
   ],
   "source": [
    "# findfirst => Find firt occurence of something\n",
    "findfirst(isequal('t'), \"Tirth Patel\")\n",
    "# isequal(x) -> Create a function that compares its argument\n",
    "#               to x using isequal, i.e. a function equivalent\n",
    "#               to y -> isequal(y, x). The returned function\n",
    "#               is of type Base.Fix2{typeof(isequal)}, which\n",
    "#               can be used to implement specialized methods."
   ]
  },
  {
   "cell_type": "code",
   "execution_count": 39,
   "metadata": {},
   "outputs": [
    {
     "data": {
      "text/plain": [
       "9"
      ]
     },
     "execution_count": 39,
     "metadata": {},
     "output_type": "execute_result"
    }
   ],
   "source": [
    "# finidlast\n",
    "findlast(isequal('t'), \"Tirth Patel\")"
   ]
  },
  {
   "cell_type": "code",
   "execution_count": 40,
   "metadata": {},
   "outputs": [
    {
     "data": {
      "text/plain": [
       "Nothing"
      ]
     },
     "execution_count": 40,
     "metadata": {},
     "output_type": "execute_result"
    }
   ],
   "source": [
    "# If not present, returns `nothing` object\n",
    "typeof(findfirst(isequal('x'), \"Tirth Patel\"))"
   ]
  },
  {
   "cell_type": "code",
   "execution_count": 41,
   "metadata": {},
   "outputs": [
    {
     "name": "stdout",
     "output_type": "stream",
     "text": [
      "findnext(isequal('t'), \"Tirth Patel\", 6) = 9\n",
      "findprev(isequal('t'), \"Tirth Patel\", 6) = 4\n"
     ]
    }
   ],
   "source": [
    "# findnext and findprev helps to find the next occurence\n",
    "# of a character and the previous occurence of a char.\n",
    "@show findnext(isequal('t'), \"Tirth Patel\", 6)\n",
    "@show findprev(isequal('t'), \"Tirth Patel\", 6);"
   ]
  },
  {
   "cell_type": "code",
   "execution_count": 42,
   "metadata": {},
   "outputs": [
    {
     "name": "stdout",
     "output_type": "stream",
     "text": [
      "occursin(\"Tirth\", \"Tirth Patel\") = true\n",
      "occursin('t', \"Tirth Patel\") = true\n"
     ]
    }
   ],
   "source": [
    "# `occursin` function checks if a substing\n",
    "# occurs in a string\n",
    "@show occursin(\"Tirth\", \"Tirth Patel\")\n",
    "@show occursin('t', \"Tirth Patel\");"
   ]
  },
  {
   "cell_type": "code",
   "execution_count": 43,
   "metadata": {},
   "outputs": [
    {
     "name": "stdout",
     "output_type": "stream",
     "text": [
      "'t' in \"Tirth Patel\" = true\n",
      "\"Tirth\" in [\"Tirth\", \"Patel\"] = true\n"
     ]
    }
   ],
   "source": [
    "# You can also use the `in` operator\n",
    "# to check the occurence of an element\n",
    "#  in a container.\n",
    "@show 't' in \"Tirth Patel\"\n",
    "@show \"Tirth\" in [\"Tirth\", \"Patel\"];"
   ]
  },
  {
   "cell_type": "code",
   "execution_count": 44,
   "metadata": {},
   "outputs": [
    {
     "name": "stdout",
     "output_type": "stream",
     "text": [
      "length(\"Tirth Patel\") = 11\n",
      "length(\"∀ x ∃ y\") = 7\n",
      "length(\"∀ x ∃ y\", 3, 9) = 4\n",
      "thisind(\"∀ x ∃ y\", 3) = 1\n",
      "nextind(\"∀ x ∃ y\", 2, 4) = 7\n",
      "prevind(\"∀ x ∃ y\", 9, 4) = 4\n"
     ]
    }
   ],
   "source": [
    "# Some other very obvious string methods\n",
    "@show length(\"Tirth Patel\")\n",
    "@show length(\"\\u2200 x \\u2203 y\")\n",
    "@show length(\"\\u2200 x \\u2203 y\", 3, 9) # the number of valid character indices in str from 3 to 9\n",
    "@show thisind(\"\\u2200 x \\u2203 y\", 3) # valid index to which 3 points which is 1.\n",
    "@show nextind(\"\\u2200 x \\u2203 y\", 2, 4)\n",
    "@show prevind(\"\\u2200 x \\u2203 y\", 9, 4);"
   ]
  },
  {
   "cell_type": "markdown",
   "metadata": {},
   "source": [
    "### 6.3. Regular Expressions in Julia"
   ]
  },
  {
   "cell_type": "code",
   "execution_count": 45,
   "metadata": {},
   "outputs": [],
   "source": [
    "# TODO"
   ]
  },
  {
   "cell_type": "markdown",
   "metadata": {},
   "source": [
    "## 7. Functions"
   ]
  },
  {
   "cell_type": "code",
   "execution_count": 46,
   "metadata": {},
   "outputs": [
    {
     "data": {
      "text/plain": [
       "#5 (generic function with 1 method)"
      ]
     },
     "execution_count": 46,
     "metadata": {},
     "output_type": "execute_result"
    }
   ],
   "source": [
    "# Normal Function\n",
    "function f(x)\n",
    "    return x .^ 2\n",
    "end\n",
    "\n",
    "# Inline function\n",
    "f(x, y) = x .* y\n",
    "\n",
    "# Lambda Function\n",
    "lambda = x -> x .^ 2"
   ]
  },
  {
   "cell_type": "code",
   "execution_count": 47,
   "metadata": {},
   "outputs": [
    {
     "data": {
      "text/plain": [
       "(f, var\"#5#6\"())"
      ]
     },
     "execution_count": 47,
     "metadata": {},
     "output_type": "execute_result"
    }
   ],
   "source": [
    "f, lambda"
   ]
  },
  {
   "cell_type": "code",
   "execution_count": 48,
   "metadata": {},
   "outputs": [],
   "source": [
    "x = randn(100, 1);"
   ]
  },
  {
   "cell_type": "code",
   "execution_count": 49,
   "metadata": {},
   "outputs": [
    {
     "name": "stdout",
     "output_type": "stream",
     "text": [
      "  76.471 ns (1 allocation: 896 bytes)\n"
     ]
    }
   ],
   "source": [
    "@btime f(x);"
   ]
  },
  {
   "cell_type": "code",
   "execution_count": 50,
   "metadata": {},
   "outputs": [
    {
     "name": "stdout",
     "output_type": "stream",
     "text": [
      "  80.394 ns (1 allocation: 896 bytes)\n"
     ]
    }
   ],
   "source": [
    "@btime f(x);"
   ]
  },
  {
   "cell_type": "code",
   "execution_count": 51,
   "metadata": {},
   "outputs": [
    {
     "name": "stdout",
     "output_type": "stream",
     "text": [
      "  78.306 ns (1 allocation: 896 bytes)\n"
     ]
    }
   ],
   "source": [
    "@btime lambda(x);"
   ]
  },
  {
   "cell_type": "code",
   "execution_count": 52,
   "metadata": {},
   "outputs": [
    {
     "data": {
      "text/plain": [
       "1×2 Array{Int64,2}:\n",
       " 9  12"
      ]
     },
     "execution_count": 52,
     "metadata": {},
     "output_type": "execute_result"
    }
   ],
   "source": [
    "# if no `return` keyword is found, julia returns the\n",
    "# last evaluated expression\n",
    "function f(x,y,z)\n",
    "    x .+ y .+ z\n",
    "end\n",
    "\n",
    "f([1 2], [3 4], [5 6])"
   ]
  },
  {
   "cell_type": "code",
   "execution_count": 53,
   "metadata": {},
   "outputs": [
    {
     "name": "stdout",
     "output_type": "stream",
     "text": [
      "x = [1.0 2.0]\n"
     ]
    },
    {
     "data": {
      "text/plain": [
       "Nothing"
      ]
     },
     "execution_count": 53,
     "metadata": {},
     "output_type": "execute_result"
    }
   ],
   "source": [
    "# We can `return nothing` if we dont want the function\n",
    "# to return anything.\n",
    "function noreturn(x)\n",
    "    println(\"x = $(x)\");\n",
    "    return nothing\n",
    "end\n",
    "\n",
    "typeof(noreturn([1. 2.]))"
   ]
  },
  {
   "cell_type": "code",
   "execution_count": 54,
   "metadata": {},
   "outputs": [
    {
     "data": {
      "text/plain": [
       "typedf (generic function with 1 method)"
      ]
     },
     "execution_count": 54,
     "metadata": {},
     "output_type": "execute_result"
    }
   ],
   "source": [
    "# We can type the arguments to get very very highly\n",
    "# efficient assembly code and super fast execution.\n",
    "function typedf(x::Array{Float64}, y::Array{Float64}, z::Array{Float64})::Array{Float64}\n",
    "    if all(y .< x) && all(z .< x)\n",
    "        return x\n",
    "    end\n",
    "    if all(x .< y) && all(z .< y)\n",
    "        return y\n",
    "    end\n",
    "    return z\n",
    "end"
   ]
  },
  {
   "cell_type": "code",
   "execution_count": 55,
   "metadata": {},
   "outputs": [
    {
     "name": "stdout",
     "output_type": "stream",
     "text": [
      "  422.106 ns (4 allocations: 288 bytes)\n"
     ]
    }
   ],
   "source": [
    "@btime typedf(x, x, x);"
   ]
  },
  {
   "cell_type": "code",
   "execution_count": 56,
   "metadata": {},
   "outputs": [
    {
     "name": "stdout",
     "output_type": "stream",
     "text": [
      "(1, 2, 3) = (1, 2, 3)\n",
      "(1, \"Tirth Patel\", 3 // 4) = (1, \"Tirth Patel\", 3//4)\n"
     ]
    }
   ],
   "source": [
    "# Tuples\n",
    "@show (1, 2, 3)\n",
    "@show (1, \"Tirth Patel\", 3//4);"
   ]
  },
  {
   "cell_type": "code",
   "execution_count": 57,
   "metadata": {},
   "outputs": [
    {
     "name": "stdout",
     "output_type": "stream",
     "text": [
      "nt = (name = \"Tirth\", rollno = \"18BCE243\", rank = 1)\n",
      "Name : Tirth\n",
      "Roll No : 18BCE243\n",
      "Rank : 1\n"
     ]
    }
   ],
   "source": [
    "# Named Tuples\n",
    "nt = (name=\"Tirth\", rollno=\"18BCE243\", rank=1)\n",
    "\n",
    "@show nt\n",
    "\n",
    "println(\"Name : $(nt.name)\")\n",
    "println(\"Roll No : $(nt.rollno)\")\n",
    "println(\"Rank : $(nt.rank)\")"
   ]
  },
  {
   "cell_type": "code",
   "execution_count": 58,
   "metadata": {},
   "outputs": [
    {
     "data": {
      "text/plain": [
       "([4.0, 6.0], [3.0, 8.0])"
      ]
     },
     "execution_count": 58,
     "metadata": {},
     "output_type": "execute_result"
    }
   ],
   "source": [
    "# Functions with multuiple return values\n",
    "function multireturn(x, y)\n",
    "    return x .+ y, x .* y\n",
    "end\n",
    "\n",
    "multireturn([1., 2.], [3., 4.])"
   ]
  },
  {
   "cell_type": "code",
   "execution_count": 59,
   "metadata": {},
   "outputs": [
    {
     "name": "stdout",
     "output_type": "stream",
     "text": [
      "[4.0 5.0]\n",
      "[3.0 6.0]\n"
     ]
    }
   ],
   "source": [
    "x, y = multireturn([1. 2.], 3.)\n",
    "println(x)\n",
    "println(y)"
   ]
  },
  {
   "cell_type": "code",
   "execution_count": 60,
   "metadata": {},
   "outputs": [
    {
     "data": {
      "text/plain": [
       "1×2 Array{Float64,2}:\n",
       " 8.0  14.0"
      ]
     },
     "execution_count": 60,
     "metadata": {},
     "output_type": "execute_result"
    }
   ],
   "source": [
    "# Argument destucting : Using this we can name\n",
    "# the arguments in a tuple when passed to a function\n",
    "function adf((a,b),c)\n",
    "    return a .* b .+ c\n",
    "end\n",
    "\n",
    "adf(([1. 2.], [3. 4.]), [5. 6.])"
   ]
  },
  {
   "cell_type": "code",
   "execution_count": 61,
   "metadata": {},
   "outputs": [
    {
     "data": {
      "text/plain": [
       "1×2 Array{Float64,2}:\n",
       " 25.0  30.0"
      ]
     },
     "execution_count": 61,
     "metadata": {},
     "output_type": "execute_result"
    }
   ],
   "source": [
    "# Varargs\n",
    "function varargf(a, b, c...)\n",
    "    # + operator is also a function and\n",
    "    # so is every operation. so we can pass\n",
    "    # varargs directly to + function\n",
    "    return +(a, b, c...)\n",
    "end\n",
    "\n",
    "varargf([1. 2.], [3. 4.], [5. 6.], [7. 8.], [9. 10.])"
   ]
  },
  {
   "cell_type": "code",
   "execution_count": 62,
   "metadata": {},
   "outputs": [
    {
     "data": {
      "text/plain": [
       "10"
      ]
     },
     "execution_count": 62,
     "metadata": {},
     "output_type": "execute_result"
    }
   ],
   "source": [
    "a = [1, 2, 3, 4]\n",
    "\n",
    "+(a...) # Arrays can also be \"unpacked\" like python."
   ]
  },
  {
   "cell_type": "code",
   "execution_count": 63,
   "metadata": {},
   "outputs": [
    {
     "name": "stdout",
     "output_type": "stream",
     "text": [
      "search:\n",
      "\n"
     ]
    },
    {
     "data": {
      "text/latex": [
       "\\begin{verbatim}\n",
       "...\n",
       "\\end{verbatim}\n",
       "The \"splat\" operator, \\texttt{...}, represents a sequence of arguments. \\texttt{...} can be used in function definitions, to indicate that the function accepts an arbitrary number of arguments. \\texttt{...} can also be used to apply a function to a sequence of arguments.\n",
       "\n",
       "\\section{Examples}\n",
       "\\begin{verbatim}\n",
       "julia> add(xs...) = reduce(+, xs)\n",
       "add (generic function with 1 method)\n",
       "\n",
       "julia> add(1, 2, 3, 4, 5)\n",
       "15\n",
       "\n",
       "julia> add([1, 2, 3]...)\n",
       "6\n",
       "\n",
       "julia> add(7, 1:100..., 1000:1100...)\n",
       "111107\n",
       "\\end{verbatim}\n"
      ],
      "text/markdown": [
       "```\n",
       "...\n",
       "```\n",
       "\n",
       "The \"splat\" operator, `...`, represents a sequence of arguments. `...` can be used in function definitions, to indicate that the function accepts an arbitrary number of arguments. `...` can also be used to apply a function to a sequence of arguments.\n",
       "\n",
       "# Examples\n",
       "\n",
       "```jldoctest\n",
       "julia> add(xs...) = reduce(+, xs)\n",
       "add (generic function with 1 method)\n",
       "\n",
       "julia> add(1, 2, 3, 4, 5)\n",
       "15\n",
       "\n",
       "julia> add([1, 2, 3]...)\n",
       "6\n",
       "\n",
       "julia> add(7, 1:100..., 1000:1100...)\n",
       "111107\n",
       "```\n"
      ],
      "text/plain": [
       "\u001b[36m  ...\u001b[39m\n",
       "\n",
       "  The \"splat\" operator, \u001b[36m...\u001b[39m, represents a sequence of arguments. \u001b[36m...\u001b[39m can be\n",
       "  used in function definitions, to indicate that the function accepts an\n",
       "  arbitrary number of arguments. \u001b[36m...\u001b[39m can also be used to apply a function to a\n",
       "  sequence of arguments.\n",
       "\n",
       "\u001b[1m  Examples\u001b[22m\n",
       "\u001b[1m  ≡≡≡≡≡≡≡≡≡≡\u001b[22m\n",
       "\n",
       "\u001b[36m  julia> add(xs...) = reduce(+, xs)\u001b[39m\n",
       "\u001b[36m  add (generic function with 1 method)\u001b[39m\n",
       "\u001b[36m  \u001b[39m\n",
       "\u001b[36m  julia> add(1, 2, 3, 4, 5)\u001b[39m\n",
       "\u001b[36m  15\u001b[39m\n",
       "\u001b[36m  \u001b[39m\n",
       "\u001b[36m  julia> add([1, 2, 3]...)\u001b[39m\n",
       "\u001b[36m  6\u001b[39m\n",
       "\u001b[36m  \u001b[39m\n",
       "\u001b[36m  julia> add(7, 1:100..., 1000:1100...)\u001b[39m\n",
       "\u001b[36m  111107\u001b[39m"
      ]
     },
     "execution_count": 63,
     "metadata": {},
     "output_type": "execute_result"
    }
   ],
   "source": [
    "?..."
   ]
  },
  {
   "cell_type": "code",
   "execution_count": 64,
   "metadata": {},
   "outputs": [
    {
     "name": "stdout",
     "output_type": "stream",
     "text": [
      "adder(10, 2, 3) = 15\n",
      "adder(10, 2) = 13.0\n",
      "adder(10) = 12.0\n"
     ]
    }
   ],
   "source": [
    "# Optional Arguments\n",
    "\n",
    "function adder(a, b=1., c=1.)\n",
    "    return a .+ b .+ c\n",
    "end\n",
    "\n",
    "@show adder(10, 2, 3)\n",
    "@show adder(10, 2)\n",
    "@show adder(10);"
   ]
  },
  {
   "cell_type": "code",
   "execution_count": 65,
   "metadata": {},
   "outputs": [
    {
     "data": {
      "text/plain": [
       "keywordf (generic function with 1 method)"
      ]
     },
     "execution_count": 65,
     "metadata": {},
     "output_type": "execute_result"
    }
   ],
   "source": [
    "# Keyword only arguments : Insert a `;` to make keyword only args\n",
    "function keywordf(x1::Array{Float64,2}, x2::Array{Float64,2}; ls::Float64=1., amp::Float64=1.)::Array{Float64,2}\n",
    "    res =        reshape(mapslices(sum, x1.^2, dims=2), size(x1)[1], 1)\n",
    "    res = res .+ reshape(mapslices(sum, x2.^2, dims=2), 1, size(x2)[1])\n",
    "    res = res .- 2 .* (x1*x2')\n",
    "    res = res ./ (2 .* ls.^2)\n",
    "    return (amp.^2).*exp.(-res)\n",
    "end"
   ]
  },
  {
   "cell_type": "code",
   "execution_count": 66,
   "metadata": {},
   "outputs": [],
   "source": [
    "x1 = randn(2000, 20)\n",
    "x2 = randn(2000, 20);"
   ]
  },
  {
   "cell_type": "code",
   "execution_count": 67,
   "metadata": {},
   "outputs": [
    {
     "name": "stdout",
     "output_type": "stream",
     "text": [
      "  123.660 ms (41054 allocations: 184.68 MiB)\n"
     ]
    }
   ],
   "source": [
    "@btime keywordf(x1, x2);"
   ]
  },
  {
   "cell_type": "code",
   "execution_count": 68,
   "metadata": {},
   "outputs": [],
   "source": [
    "# Do-Block syntax for function arguments\n",
    "# We can vectorize the computation over multiple\n",
    "# vectors using map and a `begin` `end` syntax.\n",
    "map(args -> begin\n",
    "                x1, x2, ls, amp = args\n",
    "                res =        reshape(mapslices(sum, x1.^2, dims=2), size(x1)[1], 1)\n",
    "                res = res .+ reshape(mapslices(sum, x2.^2, dims=2), 1, size(x2)[1])\n",
    "                res = res .- 2 .* (x1*x2')\n",
    "                res = res ./ (2 .* ls.^2)\n",
    "                return (amp.^2).*exp.(-res)\n",
    "            end,\n",
    "    [(x1, x2, 1., 1.), (x1, x2, 2., 3.)]\n",
    ");"
   ]
  },
  {
   "cell_type": "code",
   "execution_count": 69,
   "metadata": {},
   "outputs": [],
   "source": [
    "# Another way to write the same code is using `do` block:\n",
    "map([(x1, x2, 1., 1.), (x1, x2, 2., 3.)]) do args\n",
    "    x1, x2, ls, amp = args\n",
    "    res =        reshape(mapslices(sum, x1.^2, dims=2), size(x1)[1], 1)\n",
    "    res = res .+ reshape(mapslices(sum, x2.^2, dims=2), 1, size(x2)[1])\n",
    "    res = res .- 2 .* (x1*x2')\n",
    "    res = res ./ (2 .* ls.^2)\n",
    "    return (amp.^2).*exp.(-res)\n",
    "end;"
   ]
  },
  {
   "cell_type": "markdown",
   "metadata": {},
   "source": [
    "### How does the `do` `end` block work??\n",
    "\n",
    "Let's take the example below\n",
    "\n",
    "```julia\n",
    "func(...) do args\n",
    "    # do something\n",
    "end\n",
    "```\n",
    "\n",
    "It creates a lambda function with arguments `args` and the code between `do` `end` as function body. Then, it passes this lambda function to the function `func` as the first argument and the `...` as remaining arguments. After processing the `...` args, the function `func` calls the lambda function passing it these processed arguments. To make it clearer, let's take the example below\n",
    "\n",
    "```julia\n",
    "function func(f::Function, args...)\n",
    "    # some preprocessing to get the arguments\n",
    "    # for the lambda function\n",
    "    fargs = preprocessor(args...)\n",
    "    try\n",
    "        res = f(fargs...)\n",
    "    finally\n",
    "        # do some post processing\n",
    "        postprocessor(res...)\n",
    "    end\n",
    "end\n",
    "```"
   ]
  },
  {
   "cell_type": "code",
   "execution_count": 73,
   "metadata": {},
   "outputs": [],
   "source": [
    "# do blocks are like context manages in Python!!!\n",
    "# An Example of opening and writing to a file is shown\n",
    "open(\"context_managers_in_julia.md\", \"w\") do f\n",
    "    write(f, \"## Do block in Julia\\n\\n\")\n",
    "    write(f, \"This file was made using Julia's context managers!\\n\")\n",
    "    write(f, \"Isn't it awesome!\\n\")\n",
    "end;"
   ]
  },
  {
   "cell_type": "code",
   "execution_count": 75,
   "metadata": {},
   "outputs": [
    {
     "data": {
      "text/plain": [
       "3.0"
      ]
     },
     "execution_count": 75,
     "metadata": {},
     "output_type": "execute_result"
    }
   ],
   "source": [
    "# Function composition\n",
    "\n",
    "# Julia uses a lot of mathematical\n",
    "# expressions which is good!\n",
    "(sqrt ∘ +)(3.0, 6.0) # function composition => (f ∘ g)(x)  ≣  f(g(x))"
   ]
  },
  {
   "cell_type": "code",
   "execution_count": 79,
   "metadata": {},
   "outputs": [
    {
     "name": "stdout",
     "output_type": "stream",
     "text": [
      "3.0 + 6.0 |> sqrt = 3.0\n",
      "[\"This\", \"is\", \"a\", \"string\"] .|> [uppercase, reverse, titlecase, length] = Any[\"THIS\", \"si\", \"A\", 6]\n"
     ]
    }
   ],
   "source": [
    "# Composition of Function\n",
    "\n",
    "# Julia is awesome, right?\n",
    "@show 3.0 + 6.0 |> sqrt\n",
    "@show [\"This\", \"is\", \"a\", \"string\"] .|> [uppercase, reverse, titlecase, length];"
   ]
  },
  {
   "cell_type": "code",
   "execution_count": null,
   "metadata": {},
   "outputs": [],
   "source": []
  },
  {
   "cell_type": "code",
   "execution_count": null,
   "metadata": {},
   "outputs": [],
   "source": []
  }
 ],
 "metadata": {
  "kernelspec": {
   "display_name": "Julia 1.4.2",
   "language": "julia",
   "name": "julia-1.4"
  },
  "language_info": {
   "file_extension": ".jl",
   "mimetype": "application/julia",
   "name": "julia",
   "version": "1.4.2"
  }
 },
 "nbformat": 4,
 "nbformat_minor": 2
}
