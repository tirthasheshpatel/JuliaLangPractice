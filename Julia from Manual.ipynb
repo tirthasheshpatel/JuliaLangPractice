{
 "cells": [
  {
   "cell_type": "markdown",
   "metadata": {},
   "source": [
    "## 1. Integers and Floating Point Numbers\n",
    "\n",
    "| Types Supported |\n",
    "| --------------- |\n",
    "| `Int8` |\n",
    "| `UInt8` |\n",
    "| `Int16` |\n",
    "| `UInt16` |\n",
    "| `Int32` |\n",
    "| `UInt32` |\n",
    "| `Int64` |\n",
    "| `UInt64` |\n",
    "| `Int128` |\n",
    "| `UInt128` |\n",
    "| `Bool` |\n",
    "| `Float16` |\n",
    "| `Float32` |\n",
    "| `Float64` |"
   ]
  },
  {
   "cell_type": "code",
   "execution_count": 1,
   "metadata": {},
   "outputs": [],
   "source": [
    "using BenchmarkTools"
   ]
  },
  {
   "cell_type": "code",
   "execution_count": 2,
   "metadata": {},
   "outputs": [
    {
     "data": {
      "text/plain": [
       "64"
      ]
     },
     "execution_count": 2,
     "metadata": {},
     "output_type": "execute_result"
    }
   ],
   "source": [
    "Sys.WORD_SIZE  # I have a Win64 system so the output will be => 64"
   ]
  },
  {
   "cell_type": "code",
   "execution_count": 3,
   "metadata": {},
   "outputs": [
    {
     "data": {
      "text/plain": [
       "0xdeadbeef"
      ]
     },
     "metadata": {},
     "output_type": "display_data"
    },
    {
     "data": {
      "text/plain": [
       "0x0a"
      ]
     },
     "metadata": {},
     "output_type": "display_data"
    },
    {
     "data": {
      "text/plain": [
       "\"0000000000000000000000000000000000000000000000000000000001111011\""
      ]
     },
     "metadata": {},
     "output_type": "display_data"
    },
    {
     "data": {
      "text/plain": [
       "\"0000000000000000000000000000000000000000000000000000000000000000\""
      ]
     },
     "metadata": {},
     "output_type": "display_data"
    }
   ],
   "source": [
    "display(0xdeadbeef)        # Hexadecimal numbers\n",
    "display(0b01010)           # Binary number\n",
    "display(bitstring(123))    # Returns the bit string of a integer number\n",
    "display(bitstring(0.0))    # Returns the bitstring of a floating point number"
   ]
  },
  {
   "cell_type": "code",
   "execution_count": 4,
   "metadata": {},
   "outputs": [
    {
     "ename": "DivideError",
     "evalue": "DivideError: integer division error",
     "output_type": "error",
     "traceback": [
      "DivideError: integer division error",
      "",
      "Stacktrace:",
      " [1] rem(::Int64, ::Int64) at .\\int.jl:231",
      " [2] top-level scope at In[4]:1"
     ]
    }
   ],
   "source": [
    "1 % 0 # Throws a divide error"
   ]
  },
  {
   "cell_type": "code",
   "execution_count": 5,
   "metadata": {},
   "outputs": [
    {
     "ename": "DivideError",
     "evalue": "DivideError: integer division error",
     "output_type": "error",
     "traceback": [
      "DivideError: integer division error",
      "",
      "Stacktrace:",
      " [1] rem(::Int64, ::Int64) at .\\int.jl:231",
      " [2] top-level scope at In[5]:1"
     ]
    }
   ],
   "source": [
    "rem(1, 0) # Throws a divide error"
   ]
  },
  {
   "cell_type": "code",
   "execution_count": 6,
   "metadata": {},
   "outputs": [
    {
     "data": {
      "text/plain": [
       "Float16(0.000977)"
      ]
     },
     "metadata": {},
     "output_type": "display_data"
    },
    {
     "data": {
      "text/plain": [
       "1.1920929f-7"
      ]
     },
     "metadata": {},
     "output_type": "display_data"
    },
    {
     "data": {
      "text/plain": [
       "2.220446049250313e-16"
      ]
     },
     "metadata": {},
     "output_type": "display_data"
    }
   ],
   "source": [
    "display(eps(Float16)) # Displays the constant to get the\n",
    "display(eps(Float32)) # next floating point number in the\n",
    "display(eps(Float64)) # of the required bits"
   ]
  },
  {
   "cell_type": "markdown",
   "metadata": {},
   "source": [
    "## 2. Mathematical Operations and Elementary functions\n",
    "\n",
    "| Rounding Functions |\n",
    "| ------------------ |\n",
    "| `round(x)` |\n",
    "| `round(dtype, x)` |\n",
    "| `floor(x)` |\n",
    "| `floor(dtype, x)` |\n",
    "| `ciel(x)` |\n",
    "| `ciel(dtype, x)` |\n",
    "| `trunc(x)` |\n",
    "| `trunc(dtype, x)` |\n",
    "\n",
    "| Division Functions |\n",
    "| ------------------ |\n",
    "|  |"
   ]
  },
  {
   "cell_type": "code",
   "execution_count": 7,
   "metadata": {},
   "outputs": [
    {
     "data": {
      "text/plain": [
       "true"
      ]
     },
     "execution_count": 7,
     "metadata": {},
     "output_type": "execute_result"
    }
   ],
   "source": [
    "0.0 == -0.0 # Value comparision"
   ]
  },
  {
   "cell_type": "code",
   "execution_count": 8,
   "metadata": {},
   "outputs": [
    {
     "data": {
      "text/plain": [
       "false"
      ]
     },
     "execution_count": 8,
     "metadata": {},
     "output_type": "execute_result"
    }
   ],
   "source": [
    "NaN == NaN # NaN is not equal to NaN"
   ]
  },
  {
   "cell_type": "code",
   "execution_count": 9,
   "metadata": {},
   "outputs": [
    {
     "data": {
      "text/plain": [
       "false"
      ]
     },
     "execution_count": 9,
     "metadata": {},
     "output_type": "execute_result"
    }
   ],
   "source": [
    "[1 NaN] == [1 NaN] # So, this also returns false"
   ]
  },
  {
   "cell_type": "code",
   "execution_count": 10,
   "metadata": {},
   "outputs": [
    {
     "data": {
      "text/plain": [
       "true"
      ]
     },
     "execution_count": 10,
     "metadata": {},
     "output_type": "execute_result"
    }
   ],
   "source": [
    "1 < 2 <= 2 < 3 == 3 > 2 >= 1 == 1 > 0 # Expressions can be chained"
   ]
  },
  {
   "cell_type": "code",
   "execution_count": 11,
   "metadata": {},
   "outputs": [
    {
     "data": {
      "text/plain": [
       "1×10 BitArray{2}:\n",
       " 0  1  0  0  0  0  0  0  0  1"
      ]
     },
     "execution_count": 11,
     "metadata": {},
     "output_type": "execute_result"
    }
   ],
   "source": [
    "0 .< [0 1 2 3 4 5 4 3 2 1] .< 2 # Element-wise value comparision"
   ]
  },
  {
   "cell_type": "code",
   "execution_count": 12,
   "metadata": {},
   "outputs": [
    {
     "data": {
      "text/plain": [
       "false"
      ]
     },
     "metadata": {},
     "output_type": "display_data"
    },
    {
     "data": {
      "text/plain": [
       "true"
      ]
     },
     "metadata": {},
     "output_type": "display_data"
    },
    {
     "data": {
      "text/plain": [
       "true"
      ]
     },
     "metadata": {},
     "output_type": "display_data"
    },
    {
     "data": {
      "text/plain": [
       "false"
      ]
     },
     "metadata": {},
     "output_type": "display_data"
    },
    {
     "data": {
      "text/plain": [
       "true"
      ]
     },
     "metadata": {},
     "output_type": "display_data"
    }
   ],
   "source": [
    "# Julia provides additional functions to test numbers for special values,\n",
    "# which can be useful in situations like hash key comparisons\n",
    "display(isequal(0.0, -0.0))                       # Hash Key comparision\n",
    "display(isfinite(10000000000000000000000000.0))   # Is it finite?\n",
    "display(isinf(Inf32))                             # Is it infinite?\n",
    "display(isinf(NaN))                               # Is it infinite?\n",
    "display(isnan(NaN64))"
   ]
  },
  {
   "cell_type": "code",
   "execution_count": 13,
   "metadata": {},
   "outputs": [
    {
     "data": {
      "text/plain": [
       "5×5 Array{Float64,2}:\n",
       " 2.22219    0.108302    0.0662434   0.00923319  1.24734\n",
       " 0.0595133  0.566128    9.34112     0.702251    0.0357593\n",
       " 0.641788   0.0904526   0.67959     4.05433     4.76446\n",
       " 1.59991    2.20935     0.0257749   0.124375    0.634875\n",
       " 0.670465   0.00865289  0.00859914  7.16539     0.536118"
      ]
     },
     "metadata": {},
     "output_type": "display_data"
    },
    {
     "data": {
      "text/plain": [
       "5×5 Array{Float64,2}:\n",
       " 3.38413  0.699722   1.6898     3.96074    2.90563\n",
       " 2.80639  0.829833   4.60431    6.55045    5.45032\n",
       " 6.26217  2.57927   -0.154273   8.03784    2.74486\n",
       " 1.18798  2.18125    4.60558   -0.964619  -0.0832579\n",
       " 5.30298  4.08228   -0.358965   3.09145   -0.462257"
      ]
     },
     "metadata": {},
     "output_type": "display_data"
    }
   ],
   "source": [
    "f(x) = x^2\n",
    "x = randn(5, 5)\n",
    "display(f.(x))\n",
    "display(f(x))"
   ]
  },
  {
   "cell_type": "code",
   "execution_count": 14,
   "metadata": {},
   "outputs": [],
   "source": [
    "using Base"
   ]
  },
  {
   "cell_type": "code",
   "execution_count": 15,
   "metadata": {},
   "outputs": [
    {
     "name": "stdout",
     "output_type": "stream",
     "text": [
      "11 12 17\n",
      "0 1 1\n"
     ]
    }
   ],
   "source": [
    "println(Base.operator_precedence(:+), \" \", Base.operator_precedence(:*), \" \", Base.operator_precedence(:.))\n",
    "println(Base.operator_precedence(:sin), \" \", Base.operator_precedence(:+=), \" \", Base.operator_precedence(:(=)))"
   ]
  },
  {
   "cell_type": "code",
   "execution_count": 16,
   "metadata": {},
   "outputs": [
    {
     "data": {
      "text/plain": [
       "-4"
      ]
     },
     "execution_count": 16,
     "metadata": {},
     "output_type": "execute_result"
    }
   ],
   "source": [
    "-4 % 5 # true division unlike python which is good :-)"
   ]
  },
  {
   "cell_type": "markdown",
   "metadata": {},
   "source": [
    "## 3. Convertions\n",
    "\n",
    "Julia supports three forms of numerical conversion, which differ in their handling of inexact conversions.\n",
    "\n",
    "The notation T(x) or convert(T,x) converts x to a value of type T.\n",
    "\n",
    " - If T is a floating-point type, the result is the nearest representable value, which could be positive or negative infinity.\n",
    " - If T is an integer type, an InexactError is raised if x is not representable by T.\n",
    " - x % T converts an integer x to a value of integer type T congruent to x modulo 2^n, where n is the number of bits in T. In other words, the binary representation is truncated to fit.\n",
    "\n",
    "The Rounding functions take a type T as an optional argument. For example, round(Int,x) is a shorthand for Int(round(x))."
   ]
  },
  {
   "cell_type": "code",
   "execution_count": 17,
   "metadata": {},
   "outputs": [],
   "source": [
    "import Base:convert"
   ]
  },
  {
   "cell_type": "code",
   "execution_count": 18,
   "metadata": {},
   "outputs": [
    {
     "name": "stdout",
     "output_type": "stream",
     "text": [
      "127 % Int8 = 127\n",
      "128 % Int8 = -128\n",
      "round(Int8, 127.4) = 127\n"
     ]
    },
    {
     "ename": "InexactError",
     "evalue": "InexactError: trunc(Int8, 128.0)",
     "output_type": "error",
     "traceback": [
      "InexactError: trunc(Int8, 128.0)",
      "",
      "Stacktrace:",
      " [1] trunc at .\\float.jl:682 [inlined]",
      " [2] round(::Type{Int8}, ::Float64) at .\\float.jl:367",
      " [3] top-level scope at In[18]:4"
     ]
    }
   ],
   "source": [
    "@show 127 % Int8\n",
    "@show 128 % Int8\n",
    "@show round(Int8,127.4)\n",
    "round(Int8,127.6)"
   ]
  },
  {
   "cell_type": "code",
   "execution_count": 19,
   "metadata": {},
   "outputs": [
    {
     "data": {
      "text/html": [
       "convert(::<b>Type{T}</b>, x::<b>Number</b>)<i> where T<:Number</i> in Base at <a href=\"https://github.com/JuliaLang/julia/tree/44fa15b1502a45eac76c9017af94332d4557b251/base/number.jl#L7\" target=\"_blank\">number.jl:7</a>"
      ],
      "text/plain": [
       "convert(::Type{T}, x::Number) where T<:Number in Base at number.jl:7"
      ]
     },
     "execution_count": 19,
     "metadata": {},
     "output_type": "execute_result"
    }
   ],
   "source": [
    "@which convert(Complex{Int32}, 1+2im)"
   ]
  },
  {
   "cell_type": "code",
   "execution_count": 20,
   "metadata": {},
   "outputs": [
    {
     "data": {
      "text/plain": [
       "convert (generic function with 184 methods)"
      ]
     },
     "execution_count": 20,
     "metadata": {},
     "output_type": "execute_result"
    }
   ],
   "source": [
    "# You can overload convert method with user defined datatypes\n",
    "convert(::Type{Int8}, x::String) = [Number(i) for i in x]"
   ]
  },
  {
   "cell_type": "code",
   "execution_count": 21,
   "metadata": {},
   "outputs": [
    {
     "data": {
      "text/plain": [
       "5-element Array{UInt32,1}:\n",
       " 0x00000074\n",
       " 0x00000069\n",
       " 0x00000072\n",
       " 0x00000074\n",
       " 0x00000068"
      ]
     },
     "execution_count": 21,
     "metadata": {},
     "output_type": "execute_result"
    }
   ],
   "source": [
    "convert(Int8, \"tirth\")"
   ]
  },
  {
   "cell_type": "markdown",
   "metadata": {},
   "source": [
    "## 4. Signed and absolute valued functions\n",
    "\n",
    "| Function | Description |\n",
    "| -------- | ----------- |\n",
    "| `abs(x)` | Abs. |\n",
    "| `abs2(x)` | Absolute value squared! Can be useful for finding euclidean distance. |\n",
    "| `sign(x)` | Sign. |\n",
    "| `signbit(x)` | Indicating weather the signbit is on or off. |\n",
    "| `copysign(x, y)` | A value with magnitude of x and sign of y. |\n",
    "| `flipsign(x, y)` | A value with magnitude of x and sign of x\\*y |"
   ]
  },
  {
   "cell_type": "code",
   "execution_count": 22,
   "metadata": {},
   "outputs": [
    {
     "name": "stdout",
     "output_type": "stream",
     "text": [
      "abs(-3 + 4im) = 5.0\n",
      "abs2(-3 + 4im) = 25\n",
      "sign(-3) = -1\n",
      "sign(3) = 1\n",
      "sign(0) = 0\n",
      "signbit(3) = false\n",
      "signbit(-3) = true\n",
      "copysign(3, -4) = -3\n",
      "flipsign(-3, -4) = 3\n"
     ]
    }
   ],
   "source": [
    "@show abs(-3 + 4im);\n",
    "@show abs2(-3 + 4im);\n",
    "@show sign(-3);\n",
    "@show sign(3);\n",
    "@show sign(0);\n",
    "@show signbit(3);\n",
    "@show signbit(-3);\n",
    "@show copysign(3, -4);\n",
    "@show flipsign(-3, -4);"
   ]
  },
  {
   "cell_type": "markdown",
   "metadata": {},
   "source": [
    "## 5. Complex and Rational Numbers"
   ]
  },
  {
   "cell_type": "code",
   "execution_count": 23,
   "metadata": {},
   "outputs": [
    {
     "name": "stdout",
     "output_type": "stream",
     "text": [
      "(angle(2 + 2im) / pi) * 180 = 45.0\n",
      "sqrt(-1 + 0im) = 0.0 + 1.0im\n",
      "isequal(1, 1 + 0im) = true\n",
      "4 // 8 = 1//2\n",
      "6 // 200 = 3//100\n",
      "5 // 8 * 3 // 12 = 5//32\n",
      "3 // 4 + 2 // 8 = 1//1\n",
      "float(3 // 2) = 1.5\n",
      "isequal(3 // 2, 3 / 2) = true\n",
      "3 // 4 * 10 = 15//2\n",
      "3 // 4 * 10.0 = 7.5\n"
     ]
    }
   ],
   "source": [
    "# New to complex numbers only.\n",
    "@show angle(2 + 2im) / pi * 180\n",
    "@show sqrt(-1 + 0im)\n",
    "@show isequal(1, 1 + 0im)\n",
    "# Rational Numbers and thier unique operations\n",
    "@show 4 // 8\n",
    "@show 6 // 200\n",
    "@show 5 // 8 * 3 // 12\n",
    "@show 3 // 4 + 2 // 8\n",
    "@show float(3 // 2)\n",
    "@show isequal(3 // 2, 3/2);\n",
    "# Floating point numbers have highest precedence.\n",
    "# So, rantional numbers get typecasted to float\n",
    "# when operated with a float. But rational numbers have\n",
    "# a higher precedence than int so they remain rational\n",
    "# when operated with an int.\n",
    "@show 3 // 4 * (10)\n",
    "@show 3 // 4 * (10.);"
   ]
  },
  {
   "cell_type": "markdown",
   "metadata": {},
   "source": [
    "## 6. Strings!!\n",
    "\n",
    "Some things to note:\n",
    " - Strings in Julia support all unicode characters with UTF-8 encoding.\n",
    " - All string types are subtypes of `AbstractString`. If you create a function expecting a string argument, you should declare the type as `AbstractString` in order to accept any string type.\n",
    " - Strings are immutable in Julia! Once assigned, they cannot be changed.\n",
    " - Char is implemented as an `AbstractChar` and is a 32 bit primitive type."
   ]
  },
  {
   "cell_type": "code",
   "execution_count": 24,
   "metadata": {},
   "outputs": [
    {
     "data": {
      "text/plain": [
       "false"
      ]
     },
     "execution_count": 24,
     "metadata": {},
     "output_type": "execute_result"
    }
   ],
   "source": [
    "isvalid(Char, 0x1f0000)"
   ]
  },
  {
   "cell_type": "code",
   "execution_count": 25,
   "metadata": {},
   "outputs": [
    {
     "name": "stdout",
     "output_type": "stream",
     "text": [
      "name[1] = 'T'\n",
      "name[end] = 'l'\n",
      "name[end - 1] = 'e'\n",
      "name[7:9] = \"Pat\"\n",
      "name[7:end] = \"Patel\"\n",
      "name[6:6] = \" \"\n",
      "name[6] = ' '\n",
      "SubString(name, 7, 9) = \"Pat\"\n"
     ]
    }
   ],
   "source": [
    "# Interesting use of `end`\n",
    "name = \"Tirth Patel\"\n",
    "@show name[1]\n",
    "@show name[end]\n",
    "@show name[end-1]\n",
    "# Slicing in Julia!\n",
    "@show name[7:9]   # 8 inclusive!!!!\n",
    "@show name[7:end]\n",
    "# Notice that name[k] and nake[k:k] don't give the same results!\n",
    "@show name[6:6] # string output\n",
    "@show name[6] # char output\n",
    "# SubString is another type of string which sub classes `AbstractString`\n",
    "# and can be created using `SubString`.\n",
    "@show SubString(name, 7, 9);"
   ]
  },
  {
   "cell_type": "code",
   "execution_count": 26,
   "metadata": {},
   "outputs": [
    {
     "data": {
      "text/plain": [
       "String"
      ]
     },
     "execution_count": 26,
     "metadata": {},
     "output_type": "execute_result"
    }
   ],
   "source": [
    "typeof(name[6:9])"
   ]
  },
  {
   "cell_type": "code",
   "execution_count": 27,
   "metadata": {},
   "outputs": [
    {
     "data": {
      "text/plain": [
       "SubString{String}"
      ]
     },
     "execution_count": 27,
     "metadata": {},
     "output_type": "execute_result"
    }
   ],
   "source": [
    "typeof(SubString(name, 6, 9))"
   ]
  },
  {
   "cell_type": "markdown",
   "metadata": {},
   "source": [
    "#### Note : `SubString` creates a VIEW while slicing creates a COPY!"
   ]
  },
  {
   "cell_type": "code",
   "execution_count": 28,
   "metadata": {},
   "outputs": [
    {
     "name": "stdout",
     "output_type": "stream",
     "text": [
      "  89.680 ns (1 allocation: 1008 bytes)\n",
      "  80.848 ns (1 allocation: 32 bytes)\n"
     ]
    }
   ],
   "source": [
    "# This shows that `SubString` creates a view while slicing creates a copy!!\n",
    "str = \"wow this is awesome\" ^ 100\n",
    "@btime str[6:900]\n",
    "@btime SubString(str, 6, 900);"
   ]
  },
  {
   "cell_type": "markdown",
   "metadata": {},
   "source": [
    "### 6.1. Unicode and UTF-8\n",
    "\n",
    "Whether these Unicode characters are displayed as escapes or shown as special characters depends on your terminal's locale settings and its support for Unicode. String literals are encoded using the UTF-8 encoding. UTF-8 is a variable-width encoding, meaning that not all characters are encoded in the same number of bytes (\"code units\"). In UTF-8, ASCII characters — i.e. those with code points less than 0x80 (128) – are encoded as they are in ASCII, using a single byte, while code points 0x80 and above are encoded using multiple bytes — up to four per character\n",
    "\n",
    "String indices in Julia refer to code units (= bytes for UTF-8), the fixed-width building blocks that are used to encode arbitrary characters (code points). This means that not every index into a `String` is necessarily a valid index for a character. If you index into a string at such an invalid byte index, an error is thrown"
   ]
  },
  {
   "cell_type": "code",
   "execution_count": 29,
   "metadata": {},
   "outputs": [
    {
     "data": {
      "text/plain": [
       "\"∀ x ∃ y\""
      ]
     },
     "execution_count": 29,
     "metadata": {},
     "output_type": "execute_result"
    }
   ],
   "source": [
    "s = \"\\u2200 x \\u2203 y\""
   ]
  },
  {
   "cell_type": "code",
   "execution_count": 30,
   "metadata": {},
   "outputs": [
    {
     "ename": "StringIndexError",
     "evalue": "StringIndexError(\"∀ x ∃ y\", 2)",
     "output_type": "error",
     "traceback": [
      "StringIndexError(\"∀ x ∃ y\", 2)",
      "",
      "Stacktrace:",
      " [1] string_index_err(::String, ::Int64) at .\\strings\\string.jl:12",
      " [2] getindex_continued(::String, ::Int64, ::UInt32) at .\\strings\\string.jl:220",
      " [3] getindex(::String, ::Int64) at .\\strings\\string.jl:213",
      " [4] top-level scope at In[30]:1"
     ]
    }
   ],
   "source": [
    "# Error because In this case, the character ∀ is a three-byte character,\n",
    "# so the indices 2 and 3 are invalid and the next character's index is 4.\n",
    "s[2]"
   ]
  },
  {
   "cell_type": "code",
   "execution_count": 31,
   "metadata": {},
   "outputs": [
    {
     "name": "stdout",
     "output_type": "stream",
     "text": [
      "nextind(s, 1) = 4\n"
     ]
    }
   ],
   "source": [
    "# this next valid index can be computed by nextind(s,1), and the next index after that by nextind(s,4) and so on.\n",
    "@show nextind(s, 1);"
   ]
  },
  {
   "cell_type": "code",
   "execution_count": 32,
   "metadata": {},
   "outputs": [
    {
     "ename": "StringIndexError",
     "evalue": "StringIndexError(\"∀ x ∃ y\", 9)",
     "output_type": "error",
     "traceback": [
      "StringIndexError(\"∀ x ∃ y\", 9)",
      "",
      "Stacktrace:",
      " [1] string_index_err(::String, ::Int64) at .\\strings\\string.jl:12",
      " [2] getindex_continued(::String, ::Int64, ::UInt32) at .\\strings\\string.jl:220",
      " [3] getindex(::String, ::Int64) at .\\strings\\string.jl:213",
      " [4] top-level scope at In[32]:1"
     ]
    }
   ],
   "source": [
    "# Since end is always the last valid index into a collection,\n",
    "# end-1 references an invalid byte index if the second-to-last\n",
    "# character is multibyte\n",
    "s[end-2]"
   ]
  },
  {
   "cell_type": "code",
   "execution_count": 33,
   "metadata": {},
   "outputs": [
    {
     "name": "stdout",
     "output_type": "stream",
     "text": [
      "s[prevind(s, end, 1)] = ' '\n"
     ]
    }
   ],
   "source": [
    "# similarly you can use `prevind`\n",
    "@show s[prevind(s, end, 1)];"
   ]
  },
  {
   "cell_type": "code",
   "execution_count": 34,
   "metadata": {},
   "outputs": [
    {
     "name": "stdout",
     "output_type": "stream",
     "text": [
      "[i for i = s] = ['∀', ' ', 'x', ' ', '∃', ' ', 'y']\n",
      "∀   x   ∃   y "
     ]
    }
   ],
   "source": [
    "# We can also use `firstindex` and `lastindex` in a `for` loop\n",
    "@show [i for i in s]\n",
    "# We can also use `firstindex` and `lastindex` in a big `for` loop!!\n",
    "for i in firstindex(s):lastindex(s)\n",
    "    try\n",
    "        print(s[i], \" \");\n",
    "    catch\n",
    "        # ignore index error\n",
    "    end\n",
    "end"
   ]
  },
  {
   "cell_type": "code",
   "execution_count": 35,
   "metadata": {},
   "outputs": [
    {
     "name": "stdout",
     "output_type": "stream",
     "text": [
      "search: \u001b[0m\u001b[1me\u001b[22m\u001b[0m\u001b[1ma\u001b[22m\u001b[0m\u001b[1mc\u001b[22m\u001b[0m\u001b[1mh\u001b[22m\u001b[0m\u001b[1mi\u001b[22m\u001b[0m\u001b[1mn\u001b[22m\u001b[0m\u001b[1md\u001b[22m\u001b[0m\u001b[1me\u001b[22m\u001b[0m\u001b[1mx\u001b[22m\n",
      "\n"
     ]
    },
    {
     "data": {
      "text/latex": [
       "\\begin{verbatim}\n",
       "eachindex(A...)\n",
       "\\end{verbatim}\n",
       "Create an iterable object for visiting each index of an \\texttt{AbstractArray} \\texttt{A} in an efficient manner. For array types that have opted into fast linear indexing (like \\texttt{Array}), this is simply the range \\texttt{1:length(A)}. For other array types, return a specialized Cartesian range to efficiently index into the array with indices specified for every dimension. For other iterables, including strings and dictionaries, return an iterator object supporting arbitrary index types (e.g. unevenly spaced or non-integer indices).\n",
       "\n",
       "If you supply more than one \\texttt{AbstractArray} argument, \\texttt{eachindex} will create an iterable object that is fast for all arguments (a \\href{@ref}{\\texttt{UnitRange}} if all inputs have fast linear indexing, a \\href{@ref}{\\texttt{CartesianIndices}} otherwise). If the arrays have different sizes and/or dimensionalities, a DimensionMismatch exception will be thrown.\n",
       "\n",
       "\\section{Examples}\n",
       "\\begin{verbatim}\n",
       "julia> A = [1 2; 3 4];\n",
       "\n",
       "julia> for i in eachindex(A) # linear indexing\n",
       "           println(i)\n",
       "       end\n",
       "1\n",
       "2\n",
       "3\n",
       "4\n",
       "\n",
       "julia> for i in eachindex(view(A, 1:2, 1:1)) # Cartesian indexing\n",
       "           println(i)\n",
       "       end\n",
       "CartesianIndex(1, 1)\n",
       "CartesianIndex(2, 1)\n",
       "\\end{verbatim}\n"
      ],
      "text/markdown": [
       "```\n",
       "eachindex(A...)\n",
       "```\n",
       "\n",
       "Create an iterable object for visiting each index of an `AbstractArray` `A` in an efficient manner. For array types that have opted into fast linear indexing (like `Array`), this is simply the range `1:length(A)`. For other array types, return a specialized Cartesian range to efficiently index into the array with indices specified for every dimension. For other iterables, including strings and dictionaries, return an iterator object supporting arbitrary index types (e.g. unevenly spaced or non-integer indices).\n",
       "\n",
       "If you supply more than one `AbstractArray` argument, `eachindex` will create an iterable object that is fast for all arguments (a [`UnitRange`](@ref) if all inputs have fast linear indexing, a [`CartesianIndices`](@ref) otherwise). If the arrays have different sizes and/or dimensionalities, a DimensionMismatch exception will be thrown.\n",
       "\n",
       "# Examples\n",
       "\n",
       "```jldoctest\n",
       "julia> A = [1 2; 3 4];\n",
       "\n",
       "julia> for i in eachindex(A) # linear indexing\n",
       "           println(i)\n",
       "       end\n",
       "1\n",
       "2\n",
       "3\n",
       "4\n",
       "\n",
       "julia> for i in eachindex(view(A, 1:2, 1:1)) # Cartesian indexing\n",
       "           println(i)\n",
       "       end\n",
       "CartesianIndex(1, 1)\n",
       "CartesianIndex(2, 1)\n",
       "```\n"
      ],
      "text/plain": [
       "\u001b[36m  eachindex(A...)\u001b[39m\n",
       "\n",
       "  Create an iterable object for visiting each index of an \u001b[36mAbstractArray\u001b[39m \u001b[36mA\u001b[39m in\n",
       "  an efficient manner. For array types that have opted into fast linear\n",
       "  indexing (like \u001b[36mArray\u001b[39m), this is simply the range \u001b[36m1:length(A)\u001b[39m. For other array\n",
       "  types, return a specialized Cartesian range to efficiently index into the\n",
       "  array with indices specified for every dimension. For other iterables,\n",
       "  including strings and dictionaries, return an iterator object supporting\n",
       "  arbitrary index types (e.g. unevenly spaced or non-integer indices).\n",
       "\n",
       "  If you supply more than one \u001b[36mAbstractArray\u001b[39m argument, \u001b[36meachindex\u001b[39m will create an\n",
       "  iterable object that is fast for all arguments (a \u001b[36mUnitRange\u001b[39m if all inputs\n",
       "  have fast linear indexing, a \u001b[36mCartesianIndices\u001b[39m otherwise). If the arrays have\n",
       "  different sizes and/or dimensionalities, a DimensionMismatch exception will\n",
       "  be thrown.\n",
       "\n",
       "\u001b[1m  Examples\u001b[22m\n",
       "\u001b[1m  ≡≡≡≡≡≡≡≡≡≡\u001b[22m\n",
       "\n",
       "\u001b[36m  julia> A = [1 2; 3 4];\u001b[39m\n",
       "\u001b[36m  \u001b[39m\n",
       "\u001b[36m  julia> for i in eachindex(A) # linear indexing\u001b[39m\n",
       "\u001b[36m             println(i)\u001b[39m\n",
       "\u001b[36m         end\u001b[39m\n",
       "\u001b[36m  1\u001b[39m\n",
       "\u001b[36m  2\u001b[39m\n",
       "\u001b[36m  3\u001b[39m\n",
       "\u001b[36m  4\u001b[39m\n",
       "\u001b[36m  \u001b[39m\n",
       "\u001b[36m  julia> for i in eachindex(view(A, 1:2, 1:1)) # Cartesian indexing\u001b[39m\n",
       "\u001b[36m             println(i)\u001b[39m\n",
       "\u001b[36m         end\u001b[39m\n",
       "\u001b[36m  CartesianIndex(1, 1)\u001b[39m\n",
       "\u001b[36m  CartesianIndex(2, 1)\u001b[39m"
      ]
     },
     "execution_count": 35,
     "metadata": {},
     "output_type": "execute_result"
    }
   ],
   "source": [
    "?eachindex # Returns a `iterable` or `collections` object"
   ]
  },
  {
   "cell_type": "code",
   "execution_count": 36,
   "metadata": {},
   "outputs": [
    {
     "data": {
      "text/plain": [
       "7-element Array{Int64,1}:\n",
       "  1\n",
       "  4\n",
       "  5\n",
       "  6\n",
       "  7\n",
       " 10\n",
       " 11"
      ]
     },
     "execution_count": 36,
     "metadata": {},
     "output_type": "execute_result"
    }
   ],
   "source": [
    "collect(eachindex(s))"
   ]
  },
  {
   "cell_type": "code",
   "execution_count": 37,
   "metadata": {},
   "outputs": [
    {
     "data": {
      "text/plain": [
       "(true, true)"
      ]
     },
     "execution_count": 37,
     "metadata": {},
     "output_type": "execute_result"
    }
   ],
   "source": [
    "\"Hello World\" == \"Hello World\", \"1 + 2 = 3\" == \"1 + 2 = $(1+2)\""
   ]
  },
  {
   "cell_type": "markdown",
   "metadata": {},
   "source": [
    "### 6.2. String Methods!"
   ]
  },
  {
   "cell_type": "code",
   "execution_count": 38,
   "metadata": {},
   "outputs": [
    {
     "data": {
      "text/plain": [
       "4"
      ]
     },
     "execution_count": 38,
     "metadata": {},
     "output_type": "execute_result"
    }
   ],
   "source": [
    "# findfirst => Find firt occurence of something\n",
    "findfirst(isequal('t'), \"Tirth Patel\")\n",
    "# isequal(x) -> Create a function that compares its argument\n",
    "#               to x using isequal, i.e. a function equivalent\n",
    "#               to y -> isequal(y, x). The returned function\n",
    "#               is of type Base.Fix2{typeof(isequal)}, which\n",
    "#               can be used to implement specialized methods."
   ]
  },
  {
   "cell_type": "code",
   "execution_count": 39,
   "metadata": {},
   "outputs": [
    {
     "data": {
      "text/plain": [
       "9"
      ]
     },
     "execution_count": 39,
     "metadata": {},
     "output_type": "execute_result"
    }
   ],
   "source": [
    "# finidlast\n",
    "findlast(isequal('t'), \"Tirth Patel\")"
   ]
  },
  {
   "cell_type": "code",
   "execution_count": 40,
   "metadata": {},
   "outputs": [
    {
     "data": {
      "text/plain": [
       "Nothing"
      ]
     },
     "execution_count": 40,
     "metadata": {},
     "output_type": "execute_result"
    }
   ],
   "source": [
    "# If not present, returns `nothing` object\n",
    "typeof(findfirst(isequal('x'), \"Tirth Patel\"))"
   ]
  },
  {
   "cell_type": "code",
   "execution_count": 41,
   "metadata": {},
   "outputs": [
    {
     "name": "stdout",
     "output_type": "stream",
     "text": [
      "findnext(isequal('t'), \"Tirth Patel\", 6) = 9\n",
      "findprev(isequal('t'), \"Tirth Patel\", 6) = 4\n"
     ]
    }
   ],
   "source": [
    "# findnext and findprev helps to find the next occurence\n",
    "# of a character and the previous occurence of a char.\n",
    "@show findnext(isequal('t'), \"Tirth Patel\", 6)\n",
    "@show findprev(isequal('t'), \"Tirth Patel\", 6);"
   ]
  },
  {
   "cell_type": "code",
   "execution_count": 42,
   "metadata": {},
   "outputs": [
    {
     "name": "stdout",
     "output_type": "stream",
     "text": [
      "occursin(\"Tirth\", \"Tirth Patel\") = true\n",
      "occursin('t', \"Tirth Patel\") = true\n"
     ]
    }
   ],
   "source": [
    "# `occursin` function checks if a substing\n",
    "# occurs in a string\n",
    "@show occursin(\"Tirth\", \"Tirth Patel\")\n",
    "@show occursin('t', \"Tirth Patel\");"
   ]
  },
  {
   "cell_type": "code",
   "execution_count": 43,
   "metadata": {},
   "outputs": [
    {
     "name": "stdout",
     "output_type": "stream",
     "text": [
      "'t' in \"Tirth Patel\" = true\n",
      "\"Tirth\" in [\"Tirth\", \"Patel\"] = true\n"
     ]
    }
   ],
   "source": [
    "# You can also use the `in` operator\n",
    "# to check the occurence of an element\n",
    "#  in a container.\n",
    "@show 't' in \"Tirth Patel\"\n",
    "@show \"Tirth\" in [\"Tirth\", \"Patel\"];"
   ]
  },
  {
   "cell_type": "code",
   "execution_count": 44,
   "metadata": {},
   "outputs": [
    {
     "name": "stdout",
     "output_type": "stream",
     "text": [
      "length(\"Tirth Patel\") = 11\n",
      "length(\"∀ x ∃ y\") = 7\n",
      "length(\"∀ x ∃ y\", 3, 9) = 4\n",
      "thisind(\"∀ x ∃ y\", 3) = 1\n",
      "nextind(\"∀ x ∃ y\", 2, 4) = 7\n",
      "prevind(\"∀ x ∃ y\", 9, 4) = 4\n"
     ]
    }
   ],
   "source": [
    "# Some other very obvious string methods\n",
    "@show length(\"Tirth Patel\")\n",
    "@show length(\"\\u2200 x \\u2203 y\")\n",
    "@show length(\"\\u2200 x \\u2203 y\", 3, 9) # the number of valid character indices in str from 3 to 9\n",
    "@show thisind(\"\\u2200 x \\u2203 y\", 3) # valid index to which 3 points which is 1.\n",
    "@show nextind(\"\\u2200 x \\u2203 y\", 2, 4)\n",
    "@show prevind(\"\\u2200 x \\u2203 y\", 9, 4);"
   ]
  },
  {
   "cell_type": "markdown",
   "metadata": {},
   "source": [
    "### 6.3. Regular Expressions in Julia"
   ]
  },
  {
   "cell_type": "code",
   "execution_count": 45,
   "metadata": {},
   "outputs": [],
   "source": [
    "# TODO"
   ]
  },
  {
   "cell_type": "markdown",
   "metadata": {},
   "source": [
    "## 7. Functions"
   ]
  },
  {
   "cell_type": "code",
   "execution_count": 46,
   "metadata": {},
   "outputs": [
    {
     "data": {
      "text/plain": [
       "#5 (generic function with 1 method)"
      ]
     },
     "execution_count": 46,
     "metadata": {},
     "output_type": "execute_result"
    }
   ],
   "source": [
    "# Normal Function\n",
    "function f(x)\n",
    "    return x .^ 2\n",
    "end\n",
    "\n",
    "# Inline function\n",
    "f(x, y) = x .* y\n",
    "\n",
    "# Lambda Function\n",
    "lambda = x -> x .^ 2"
   ]
  },
  {
   "cell_type": "code",
   "execution_count": 47,
   "metadata": {},
   "outputs": [
    {
     "data": {
      "text/plain": [
       "(f, var\"#5#6\"())"
      ]
     },
     "execution_count": 47,
     "metadata": {},
     "output_type": "execute_result"
    }
   ],
   "source": [
    "f, lambda"
   ]
  },
  {
   "cell_type": "code",
   "execution_count": 48,
   "metadata": {},
   "outputs": [],
   "source": [
    "x = randn(100, 1);"
   ]
  },
  {
   "cell_type": "code",
   "execution_count": 49,
   "metadata": {},
   "outputs": [
    {
     "name": "stdout",
     "output_type": "stream",
     "text": [
      "  76.604 ns (1 allocation: 896 bytes)\n"
     ]
    }
   ],
   "source": [
    "@btime f(x);"
   ]
  },
  {
   "cell_type": "code",
   "execution_count": 50,
   "metadata": {},
   "outputs": [
    {
     "name": "stdout",
     "output_type": "stream",
     "text": [
      "  75.540 ns (1 allocation: 896 bytes)\n"
     ]
    }
   ],
   "source": [
    "@btime f(x);"
   ]
  },
  {
   "cell_type": "code",
   "execution_count": 51,
   "metadata": {},
   "outputs": [
    {
     "name": "stdout",
     "output_type": "stream",
     "text": [
      "  76.263 ns (1 allocation: 896 bytes)\n"
     ]
    }
   ],
   "source": [
    "@btime lambda(x);"
   ]
  },
  {
   "cell_type": "code",
   "execution_count": 52,
   "metadata": {},
   "outputs": [
    {
     "data": {
      "text/plain": [
       "1×2 Array{Int64,2}:\n",
       " 9  12"
      ]
     },
     "execution_count": 52,
     "metadata": {},
     "output_type": "execute_result"
    }
   ],
   "source": [
    "# if no `return` keyword is found, julia returns the\n",
    "# last evaluated expression\n",
    "function f(x,y,z)\n",
    "    x .+ y .+ z\n",
    "end\n",
    "\n",
    "f([1 2], [3 4], [5 6])"
   ]
  },
  {
   "cell_type": "code",
   "execution_count": 53,
   "metadata": {},
   "outputs": [
    {
     "name": "stdout",
     "output_type": "stream",
     "text": [
      "x = [1.0 2.0]\n"
     ]
    },
    {
     "data": {
      "text/plain": [
       "Nothing"
      ]
     },
     "execution_count": 53,
     "metadata": {},
     "output_type": "execute_result"
    }
   ],
   "source": [
    "# We can `return nothing` if we dont want the function\n",
    "# to return anything.\n",
    "function noreturn(x)\n",
    "    println(\"x = $(x)\");\n",
    "    return nothing\n",
    "end\n",
    "\n",
    "typeof(noreturn([1. 2.]))"
   ]
  },
  {
   "cell_type": "code",
   "execution_count": 54,
   "metadata": {},
   "outputs": [
    {
     "data": {
      "text/plain": [
       "typedf (generic function with 1 method)"
      ]
     },
     "execution_count": 54,
     "metadata": {},
     "output_type": "execute_result"
    }
   ],
   "source": [
    "# We can type the arguments to get very very highly\n",
    "# efficient assembly code and super fast execution.\n",
    "function typedf(x::Array{Float64}, y::Array{Float64}, z::Array{Float64})::Array{Float64}\n",
    "    if all(y .< x) && all(z .< x)\n",
    "        return x\n",
    "    end\n",
    "    if all(x .< y) && all(z .< y)\n",
    "        return y\n",
    "    end\n",
    "    return z\n",
    "end"
   ]
  },
  {
   "cell_type": "code",
   "execution_count": 55,
   "metadata": {},
   "outputs": [
    {
     "name": "stdout",
     "output_type": "stream",
     "text": [
      "  424.747 ns (4 allocations: 288 bytes)\n"
     ]
    }
   ],
   "source": [
    "@btime typedf(x, x, x);"
   ]
  },
  {
   "cell_type": "code",
   "execution_count": 56,
   "metadata": {},
   "outputs": [
    {
     "name": "stdout",
     "output_type": "stream",
     "text": [
      "(1, 2, 3) = (1, 2, 3)\n",
      "(1, \"Tirth Patel\", 3 // 4) = (1, \"Tirth Patel\", 3//4)\n"
     ]
    }
   ],
   "source": [
    "# Tuples\n",
    "@show (1, 2, 3)\n",
    "@show (1, \"Tirth Patel\", 3//4);"
   ]
  },
  {
   "cell_type": "code",
   "execution_count": 57,
   "metadata": {},
   "outputs": [
    {
     "name": "stdout",
     "output_type": "stream",
     "text": [
      "nt = (name = \"Tirth\", rollno = \"18BCE243\", rank = 1)\n",
      "Name : Tirth\n",
      "Roll No : 18BCE243\n",
      "Rank : 1\n"
     ]
    }
   ],
   "source": [
    "# Named Tuples\n",
    "nt = (name=\"Tirth\", rollno=\"18BCE243\", rank=1)\n",
    "\n",
    "@show nt\n",
    "\n",
    "println(\"Name : $(nt.name)\")\n",
    "println(\"Roll No : $(nt.rollno)\")\n",
    "println(\"Rank : $(nt.rank)\")"
   ]
  },
  {
   "cell_type": "code",
   "execution_count": 58,
   "metadata": {},
   "outputs": [
    {
     "data": {
      "text/plain": [
       "([4.0, 6.0], [3.0, 8.0])"
      ]
     },
     "execution_count": 58,
     "metadata": {},
     "output_type": "execute_result"
    }
   ],
   "source": [
    "# Functions with multuiple return values\n",
    "function multireturn(x, y)\n",
    "    return x .+ y, x .* y\n",
    "end\n",
    "\n",
    "multireturn([1., 2.], [3., 4.])"
   ]
  },
  {
   "cell_type": "code",
   "execution_count": 59,
   "metadata": {},
   "outputs": [
    {
     "name": "stdout",
     "output_type": "stream",
     "text": [
      "[4.0 5.0]\n",
      "[3.0 6.0]\n"
     ]
    }
   ],
   "source": [
    "x, y = multireturn([1. 2.], 3.)\n",
    "println(x)\n",
    "println(y)"
   ]
  },
  {
   "cell_type": "code",
   "execution_count": 60,
   "metadata": {},
   "outputs": [
    {
     "data": {
      "text/plain": [
       "1×2 Array{Float64,2}:\n",
       " 8.0  14.0"
      ]
     },
     "execution_count": 60,
     "metadata": {},
     "output_type": "execute_result"
    }
   ],
   "source": [
    "# Argument destucting : Using this we can name\n",
    "# the arguments in a tuple when passed to a function\n",
    "function adf((a,b),c)\n",
    "    return a .* b .+ c\n",
    "end\n",
    "\n",
    "adf(([1. 2.], [3. 4.]), [5. 6.])"
   ]
  },
  {
   "cell_type": "code",
   "execution_count": 61,
   "metadata": {},
   "outputs": [
    {
     "data": {
      "text/plain": [
       "1×2 Array{Float64,2}:\n",
       " 25.0  30.0"
      ]
     },
     "execution_count": 61,
     "metadata": {},
     "output_type": "execute_result"
    }
   ],
   "source": [
    "# Varargs\n",
    "function varargf(a, b, c...)\n",
    "    # + operator is also a function and\n",
    "    # so is every operation. so we can pass\n",
    "    # varargs directly to + function\n",
    "    return +(a, b, c...)\n",
    "end\n",
    "\n",
    "varargf([1. 2.], [3. 4.], [5. 6.], [7. 8.], [9. 10.])"
   ]
  },
  {
   "cell_type": "code",
   "execution_count": 62,
   "metadata": {},
   "outputs": [
    {
     "data": {
      "text/plain": [
       "10"
      ]
     },
     "execution_count": 62,
     "metadata": {},
     "output_type": "execute_result"
    }
   ],
   "source": [
    "a = [1, 2, 3, 4]\n",
    "\n",
    "+(a...) # Arrays can also be \"unpacked\" like python."
   ]
  },
  {
   "cell_type": "code",
   "execution_count": 63,
   "metadata": {},
   "outputs": [
    {
     "name": "stdout",
     "output_type": "stream",
     "text": [
      "search:\n",
      "\n"
     ]
    },
    {
     "data": {
      "text/latex": [
       "\\begin{verbatim}\n",
       "...\n",
       "\\end{verbatim}\n",
       "The \"splat\" operator, \\texttt{...}, represents a sequence of arguments. \\texttt{...} can be used in function definitions, to indicate that the function accepts an arbitrary number of arguments. \\texttt{...} can also be used to apply a function to a sequence of arguments.\n",
       "\n",
       "\\section{Examples}\n",
       "\\begin{verbatim}\n",
       "julia> add(xs...) = reduce(+, xs)\n",
       "add (generic function with 1 method)\n",
       "\n",
       "julia> add(1, 2, 3, 4, 5)\n",
       "15\n",
       "\n",
       "julia> add([1, 2, 3]...)\n",
       "6\n",
       "\n",
       "julia> add(7, 1:100..., 1000:1100...)\n",
       "111107\n",
       "\\end{verbatim}\n"
      ],
      "text/markdown": [
       "```\n",
       "...\n",
       "```\n",
       "\n",
       "The \"splat\" operator, `...`, represents a sequence of arguments. `...` can be used in function definitions, to indicate that the function accepts an arbitrary number of arguments. `...` can also be used to apply a function to a sequence of arguments.\n",
       "\n",
       "# Examples\n",
       "\n",
       "```jldoctest\n",
       "julia> add(xs...) = reduce(+, xs)\n",
       "add (generic function with 1 method)\n",
       "\n",
       "julia> add(1, 2, 3, 4, 5)\n",
       "15\n",
       "\n",
       "julia> add([1, 2, 3]...)\n",
       "6\n",
       "\n",
       "julia> add(7, 1:100..., 1000:1100...)\n",
       "111107\n",
       "```\n"
      ],
      "text/plain": [
       "\u001b[36m  ...\u001b[39m\n",
       "\n",
       "  The \"splat\" operator, \u001b[36m...\u001b[39m, represents a sequence of arguments. \u001b[36m...\u001b[39m can be\n",
       "  used in function definitions, to indicate that the function accepts an\n",
       "  arbitrary number of arguments. \u001b[36m...\u001b[39m can also be used to apply a function to a\n",
       "  sequence of arguments.\n",
       "\n",
       "\u001b[1m  Examples\u001b[22m\n",
       "\u001b[1m  ≡≡≡≡≡≡≡≡≡≡\u001b[22m\n",
       "\n",
       "\u001b[36m  julia> add(xs...) = reduce(+, xs)\u001b[39m\n",
       "\u001b[36m  add (generic function with 1 method)\u001b[39m\n",
       "\u001b[36m  \u001b[39m\n",
       "\u001b[36m  julia> add(1, 2, 3, 4, 5)\u001b[39m\n",
       "\u001b[36m  15\u001b[39m\n",
       "\u001b[36m  \u001b[39m\n",
       "\u001b[36m  julia> add([1, 2, 3]...)\u001b[39m\n",
       "\u001b[36m  6\u001b[39m\n",
       "\u001b[36m  \u001b[39m\n",
       "\u001b[36m  julia> add(7, 1:100..., 1000:1100...)\u001b[39m\n",
       "\u001b[36m  111107\u001b[39m"
      ]
     },
     "execution_count": 63,
     "metadata": {},
     "output_type": "execute_result"
    }
   ],
   "source": [
    "?..."
   ]
  },
  {
   "cell_type": "code",
   "execution_count": 64,
   "metadata": {},
   "outputs": [
    {
     "name": "stdout",
     "output_type": "stream",
     "text": [
      "adder(10, 2, 3) = 15\n",
      "adder(10, 2) = 13.0\n",
      "adder(10) = 12.0\n"
     ]
    }
   ],
   "source": [
    "# Optional Arguments\n",
    "\n",
    "function adder(a, b=1., c=1.)\n",
    "    return a .+ b .+ c\n",
    "end\n",
    "\n",
    "@show adder(10, 2, 3)\n",
    "@show adder(10, 2)\n",
    "@show adder(10);"
   ]
  },
  {
   "cell_type": "code",
   "execution_count": 65,
   "metadata": {},
   "outputs": [
    {
     "data": {
      "text/plain": [
       "keywordf (generic function with 1 method)"
      ]
     },
     "execution_count": 65,
     "metadata": {},
     "output_type": "execute_result"
    }
   ],
   "source": [
    "# Keyword only arguments : Insert a `;` to make keyword only args\n",
    "function keywordf(x1::Array{Float64,2}, x2::Array{Float64,2}; ls::Float64=1., amp::Float64=1.)::Array{Float64,2}\n",
    "    res =        reshape(mapslices(sum, x1.^2, dims=2), size(x1)[1], 1          )\n",
    "    res = res .+ reshape(mapslices(sum, x2.^2, dims=2), 1          , size(x2)[1])\n",
    "    res = res .- 2 .* (x1*x2')\n",
    "    res = res ./ (2 .* ls.^2)\n",
    "    return (amp.^2).*exp.(-res)\n",
    "end"
   ]
  },
  {
   "cell_type": "code",
   "execution_count": 66,
   "metadata": {},
   "outputs": [],
   "source": [
    "x1 = randn(2000, 20)\n",
    "x2 = randn(2000, 20);"
   ]
  },
  {
   "cell_type": "code",
   "execution_count": 67,
   "metadata": {},
   "outputs": [
    {
     "name": "stdout",
     "output_type": "stream",
     "text": [
      "  120.327 ms (41054 allocations: 184.68 MiB)\n"
     ]
    }
   ],
   "source": [
    "@btime keywordf(x1, x2);"
   ]
  },
  {
   "cell_type": "code",
   "execution_count": 68,
   "metadata": {},
   "outputs": [],
   "source": [
    "# Do-Block syntax for function arguments\n",
    "# We can vectorize the computation over multiple\n",
    "# vectors using map and a `begin` `end` syntax.\n",
    "map(args -> begin\n",
    "                x1, x2, ls, amp = args\n",
    "                res =        reshape(mapslices(sum, x1.^2, dims=2), size(x1)[1], 1          )\n",
    "                res = res .+ reshape(mapslices(sum, x2.^2, dims=2), 1          , size(x2)[1])\n",
    "                res = res .- 2 .* (x1*x2')\n",
    "                res = res ./ (2 .* ls.^2)\n",
    "                return (amp.^2).*exp.(-res)\n",
    "            end,\n",
    "    [(x1, x2, 1., 1.), (x1, x2, 2., 3.)]\n",
    ");"
   ]
  },
  {
   "cell_type": "code",
   "execution_count": 69,
   "metadata": {},
   "outputs": [],
   "source": [
    "# Another way to write the same code is using `do` block:\n",
    "map([(x1, x2, 1., 1.), (x1, x2, 2., 3.)]) do args\n",
    "    x1, x2, ls, amp = args\n",
    "    res =        reshape(mapslices(sum, x1.^2, dims=2), size(x1)[1], 1          )\n",
    "    res = res .+ reshape(mapslices(sum, x2.^2, dims=2), 1          , size(x2)[1])\n",
    "    res = res .- 2 .* (x1*x2')\n",
    "    res = res ./ (2 .* ls.^2)\n",
    "    return (amp.^2).*exp.(-res)\n",
    "end;"
   ]
  },
  {
   "cell_type": "markdown",
   "metadata": {},
   "source": [
    "### 7.1 How does the `do` `end` block work??\n",
    "\n",
    "Let's take the example below\n",
    "\n",
    "```julia\n",
    "func(...) do args\n",
    "    # do something\n",
    "end\n",
    "```\n",
    "\n",
    "It creates a lambda function with arguments `args` and the code between `do` `end` as function body. Then, it passes this lambda function to the function `func` as the first argument and the `...` as remaining arguments. After processing the `...` args, the function `func` calls the lambda function passing it these processed arguments. To make it clearer, let's take the example below\n",
    "\n",
    "```julia\n",
    "function func(f::Function, args...)\n",
    "    # some preprocessing to get the arguments\n",
    "    # for the lambda function\n",
    "    fargs = preprocessor(args...)\n",
    "    try\n",
    "        res = f(fargs...)\n",
    "    finally\n",
    "        # do some post processing\n",
    "        postprocessor(res...)\n",
    "    end\n",
    "end\n",
    "```"
   ]
  },
  {
   "cell_type": "code",
   "execution_count": 70,
   "metadata": {},
   "outputs": [],
   "source": [
    "# do blocks are like context manages in Python!!!\n",
    "# An Example of opening and writing to a file is shown\n",
    "open(\"context_managers_in_julia.md\", \"w\") do f\n",
    "    write(f, \"## Do block in Julia\\n\\n\")\n",
    "    write(f, \"This file was made using Julia's context managers!\\n\")\n",
    "    write(f, \"Isn't it awesome!\\n\")\n",
    "end;"
   ]
  },
  {
   "cell_type": "code",
   "execution_count": 71,
   "metadata": {},
   "outputs": [
    {
     "data": {
      "text/plain": [
       "3.0"
      ]
     },
     "execution_count": 71,
     "metadata": {},
     "output_type": "execute_result"
    }
   ],
   "source": [
    "# Function composition\n",
    "\n",
    "# Julia uses a lot of mathematical\n",
    "# expressions which is good!\n",
    "(sqrt ∘ +)(3.0, 6.0) # function composition => (f ∘ g)(x)  ≣  f(g(x))"
   ]
  },
  {
   "cell_type": "code",
   "execution_count": 72,
   "metadata": {},
   "outputs": [
    {
     "name": "stdout",
     "output_type": "stream",
     "text": [
      "3.0 + 6.0 |> sqrt = 3.0\n",
      "[\"This\", \"is\", \"a\", \"string\"] .|> [uppercase, reverse, titlecase, length] = Any[\"THIS\", \"si\", \"A\", 6]\n"
     ]
    }
   ],
   "source": [
    "# Composition of Function\n",
    "\n",
    "# Julia is awesome, right?\n",
    "@show 3.0 + 6.0 |> sqrt\n",
    "@show [\"This\", \"is\", \"a\", \"string\"] .|> [uppercase, reverse, titlecase, length];"
   ]
  },
  {
   "cell_type": "markdown",
   "metadata": {},
   "source": [
    "## 8. Control Flow"
   ]
  },
  {
   "cell_type": "code",
   "execution_count": 73,
   "metadata": {},
   "outputs": [
    {
     "name": "stdout",
     "output_type": "stream",
     "text": [
      "z = begin\n",
      "        #= In[73]:5 =#\n",
      "        x = 1\n",
      "        #= In[73]:6 =#\n",
      "        y = 1\n",
      "        #= In[73]:7 =#\n",
      "        x + y\n",
      "    end = 2\n",
      "z = begin\n",
      "        x = 1\n",
      "        #= In[73]:11 =#\n",
      "        y = 1\n",
      "        #= In[73]:11 =#\n",
      "        x + y\n",
      "    end = 2\n"
     ]
    }
   ],
   "source": [
    "# Compound Expressions\n",
    "\n",
    "# Method 1: Using `begin` `end`\n",
    "@show z = begin\n",
    "    x = 1\n",
    "    y = 1\n",
    "    x + y\n",
    "end\n",
    "\n",
    "# Method 2: Using `;` chains\n",
    "@show z = (x = 1 ; y = 1 ; x + y);"
   ]
  },
  {
   "cell_type": "code",
   "execution_count": 74,
   "metadata": {},
   "outputs": [
    {
     "name": "stdout",
     "output_type": "stream",
     "text": [
      "a ≤ b\n"
     ]
    }
   ],
   "source": [
    "# C like ternary operator!!\n",
    "a = 0\n",
    "b = 1\n",
    "(a > b) ? println(\"a > b\") : println(\"a ≤ b\") "
   ]
  },
  {
   "cell_type": "code",
   "execution_count": 75,
   "metadata": {},
   "outputs": [
    {
     "name": "stdout",
     "output_type": "stream",
     "text": [
      "a ≤ b\n"
     ]
    }
   ],
   "source": [
    "# C like short circuit evaluations!!!\n",
    "(a > b) || println(\"a ≤ b\");"
   ]
  },
  {
   "cell_type": "code",
   "execution_count": 76,
   "metadata": {},
   "outputs": [
    {
     "data": {
      "text/plain": [
       "fact (generic function with 1 method)"
      ]
     },
     "execution_count": 76,
     "metadata": {},
     "output_type": "execute_result"
    }
   ],
   "source": [
    "# A use of these operators\n",
    "function fact(n::Int)\n",
    "    n ≥ 0 || error(\"n must be greater than or equal to 0 but found $n\")\n",
    "    n == 0 && return 1\n",
    "    return n*fact(n-1)\n",
    "end"
   ]
  },
  {
   "cell_type": "code",
   "execution_count": 77,
   "metadata": {},
   "outputs": [
    {
     "ename": "ErrorException",
     "evalue": "n must be greater than or equal to 0 but found -1",
     "output_type": "error",
     "traceback": [
      "n must be greater than or equal to 0 but found -1",
      "",
      "Stacktrace:",
      " [1] error(::String) at .\\error.jl:33",
      " [2] fact(::Int64) at .\\In[76]:3",
      " [3] top-level scope at In[77]:1"
     ]
    }
   ],
   "source": [
    "fact(-1)"
   ]
  },
  {
   "cell_type": "markdown",
   "metadata": {},
   "source": [
    "### 8.1 Exceptions and Exception Handling!\n",
    "\n",
    "| Exception Name        | When is it thrown? |\n",
    "| --------------        | ------------------ |\n",
    "| ArgumentError         | argument not provided |\n",
    "| BoundsError           | out of bounds access (like `a[0]`) |\n",
    "| CompositeException    | - |\n",
    "| DimensionMismatch     | dimensions are not matching for an operation to be performed. Be careful, most people forget to add a `.` before the function to indicate julia to broadcast an operation accross each element in the collection. Some collections like vectors don't support a square `^2` operation. You will have to do `.^2` for that behaviour.|\n",
    "| DivideError           | illegal value during devide operation |\n",
    "| DomainError           | value is out of the allowed domain |\n",
    "| EOFError              | no eof found while parsing |\n",
    "| ErrorException        | - |\n",
    "| InexactError          | - |\n",
    "| InitError             | - |\n",
    "| InterruptException    | - |\n",
    "| InvalidStateException | - |\n",
    "| KeyError              | Key not present in struct or dict |\n",
    "| LoadError             | - |\n",
    "| OutOfMemoryError      | Memory full. Try to free some up |\n",
    "| ReadOnlyMemoryError   | - |\n",
    "| RemoteException       | - |\n",
    "| MethodError           | The method you are trying to call doesn't exist. |\n",
    "| OverflowError         | value more than the datatype can hold. Like passing `1e309` to a `Float64` |\n",
    "| Meta.ParseError       | - |\n",
    "| SystemError           | - |\n",
    "| TypeError             | Type not supported |\n",
    "| UndefRefError         | - |\n",
    "| UndefVarError         | Variable not defined |\n",
    "| StringIndexError      | String index is invalid |"
   ]
  },
  {
   "cell_type": "code",
   "execution_count": 78,
   "metadata": {},
   "outputs": [
    {
     "ename": "DomainError",
     "evalue": "DomainError with -1.0:\nsqrt will only return a complex result if called with a complex argument. Try sqrt(Complex(x)).",
     "output_type": "error",
     "traceback": [
      "DomainError with -1.0:\nsqrt will only return a complex result if called with a complex argument. Try sqrt(Complex(x)).",
      "",
      "Stacktrace:",
      " [1] throw_complex_domainerror(::Symbol, ::Float64) at .\\math.jl:33",
      " [2] sqrt(::Float64) at .\\math.jl:557",
      " [3] top-level scope at In[78]:1"
     ]
    }
   ],
   "source": [
    "# Play with exceptions here!\n",
    "sqrt(-1.0)"
   ]
  },
  {
   "cell_type": "code",
   "execution_count": 79,
   "metadata": {},
   "outputs": [],
   "source": [
    "# User defined exception!!\n",
    "struct MyException <: Exception end"
   ]
  },
  {
   "cell_type": "code",
   "execution_count": 80,
   "metadata": {},
   "outputs": [
    {
     "data": {
      "text/plain": [
       "throws_myexception (generic function with 1 method)"
      ]
     },
     "execution_count": 80,
     "metadata": {},
     "output_type": "execute_result"
    }
   ],
   "source": [
    "# We can throw that exception in some function\n",
    "function throws_myexception(x::Int)::Int\n",
    "    x ≥ 0 || throw(MyException())\n",
    "    return x\n",
    "end"
   ]
  },
  {
   "cell_type": "code",
   "execution_count": 81,
   "metadata": {},
   "outputs": [
    {
     "ename": "MyException",
     "evalue": "MyException()",
     "output_type": "error",
     "traceback": [
      "MyException()",
      "",
      "Stacktrace:",
      " [1] throws_myexception(::Int64) at .\\In[80]:3",
      " [2] top-level scope at In[81]:1"
     ]
    }
   ],
   "source": [
    "throws_myexception(-1)"
   ]
  },
  {
   "cell_type": "code",
   "execution_count": 82,
   "metadata": {},
   "outputs": [
    {
     "data": {
      "text/plain": [
       "true"
      ]
     },
     "execution_count": 82,
     "metadata": {},
     "output_type": "execute_result"
    }
   ],
   "source": [
    "typeof(MyException()) <: Exception"
   ]
  },
  {
   "cell_type": "code",
   "execution_count": 83,
   "metadata": {},
   "outputs": [
    {
     "data": {
      "text/plain": [
       "sqrt_second (generic function with 1 method)"
      ]
     },
     "execution_count": 83,
     "metadata": {},
     "output_type": "execute_result"
    }
   ],
   "source": [
    "# Try catch blocks in Julia! \n",
    "\n",
    "sqrt_second(x) = begin\n",
    "    try\n",
    "        sqrt(x[2])\n",
    "    catch e\n",
    "        if isa(e, DomainError)\n",
    "            sqrt(complex(x[2], 0))\n",
    "        elseif isa(e, BoundsError)\n",
    "            sqrt(x)\n",
    "        end\n",
    "    end\n",
    "end"
   ]
  },
  {
   "cell_type": "code",
   "execution_count": 84,
   "metadata": {},
   "outputs": [
    {
     "data": {
      "text/plain": [
       "0.0 + 1.0im"
      ]
     },
     "execution_count": 84,
     "metadata": {},
     "output_type": "execute_result"
    }
   ],
   "source": [
    "sqrt_second([2 -1])"
   ]
  },
  {
   "cell_type": "markdown",
   "metadata": {},
   "source": [
    "### 8.2 Coroutins in Julia!!!!!!\n",
    "\n",
    "This is the most amazing feature of julia and requires a notebook of its own.\n",
    "Will try to do it this week but it may take some time as coroutines are very very\n",
    "useful and difficult to understand!!"
   ]
  },
  {
   "cell_type": "code",
   "execution_count": 85,
   "metadata": {},
   "outputs": [],
   "source": [
    "# TODO"
   ]
  },
  {
   "cell_type": "markdown",
   "metadata": {},
   "source": [
    "## 9. Scopes in Julia!\n",
    "\n",
    "Julia uses something called lexical scoping!\n",
    "\n",
    "This means that the variable undefined in the scope of the variable is inherited from the module in which function is defined.\n",
    "\n",
    "Take the example below. `x` defined in module `Foo` is used in the function `f` and not the x defined in the main module afterwards!"
   ]
  },
  {
   "cell_type": "code",
   "execution_count": 86,
   "metadata": {},
   "outputs": [],
   "source": [
    "module Foo\n",
    "    x = 1\n",
    "    f() = x\n",
    "end;"
   ]
  },
  {
   "cell_type": "code",
   "execution_count": 87,
   "metadata": {},
   "outputs": [
    {
     "name": "stdout",
     "output_type": "stream",
     "text": [
      "1\n"
     ]
    }
   ],
   "source": [
    "import .Foo\n",
    "\n",
    "x = -1\n",
    "\n",
    "println(Foo.f())"
   ]
  },
  {
   "cell_type": "code",
   "execution_count": 88,
   "metadata": {},
   "outputs": [
    {
     "ename": "UndefVarError",
     "evalue": "UndefVarError: a not defined",
     "output_type": "error",
     "traceback": [
      "UndefVarError: a not defined",
      "",
      "Stacktrace:",
      " [1] top-level scope at In[88]:17"
     ]
    }
   ],
   "source": [
    "# Let's play with modules\n",
    "module A\n",
    "    a = 1\n",
    "end;\n",
    "\n",
    "module B\n",
    "    module C\n",
    "        c = 2\n",
    "    end;\n",
    "    b = C.c\n",
    "\n",
    "    import ..A\n",
    "    d = A.a\n",
    "end;\n",
    "\n",
    "module D\n",
    "    b = a\n",
    "end;"
   ]
  },
  {
   "cell_type": "code",
   "execution_count": 89,
   "metadata": {},
   "outputs": [
    {
     "ename": "ErrorException",
     "evalue": "cannot assign variables in other modules",
     "output_type": "error",
     "traceback": [
      "cannot assign variables in other modules",
      "",
      "Stacktrace:",
      " [1] setproperty!(::Module, ::Symbol, ::Int64) at .\\Base.jl:27",
      " [2] top-level scope at In[89]:3"
     ]
    }
   ],
   "source": [
    "module E\n",
    "    import ..A\n",
    "    A.a = 3\n",
    "end;"
   ]
  },
  {
   "cell_type": "code",
   "execution_count": 90,
   "metadata": {},
   "outputs": [
    {
     "name": "stdout",
     "output_type": "stream",
     "text": [
      "12345678910\n"
     ]
    },
    {
     "ename": "UndefVarError",
     "evalue": "UndefVarError: i not defined",
     "output_type": "error",
     "traceback": [
      "UndefVarError: i not defined",
      "",
      "Stacktrace:",
      " [1] top-level scope at In[90]:5"
     ]
    }
   ],
   "source": [
    "for i ∈ 1:10\n",
    "    print(i)\n",
    "end\n",
    "println()\n",
    "i"
   ]
  },
  {
   "cell_type": "code",
   "execution_count": 91,
   "metadata": {},
   "outputs": [
    {
     "name": "stdout",
     "output_type": "stream",
     "text": [
      "2"
     ]
    }
   ],
   "source": [
    "# nested scope can update the value in the parent scope\n",
    "for i ∈ 1:1\n",
    "    k = 0\n",
    "    for j ∈ 1:1\n",
    "        k = 2\n",
    "    end\n",
    "    print(k)\n",
    "end"
   ]
  },
  {
   "cell_type": "code",
   "execution_count": 92,
   "metadata": {},
   "outputs": [
    {
     "name": "stdout",
     "output_type": "stream",
     "text": [
      "0"
     ]
    }
   ],
   "source": [
    "# it can be avoided by using a `local` keyword\n",
    "for i ∈ 1:1\n",
    "    k = 0\n",
    "    for j ∈ 1:1\n",
    "        local k = 2\n",
    "    end\n",
    "    print(k)\n",
    "end"
   ]
  },
  {
   "cell_type": "code",
   "execution_count": 93,
   "metadata": {},
   "outputs": [
    {
     "name": "stdout",
     "output_type": "stream",
     "text": [
      "2\n"
     ]
    }
   ],
   "source": [
    "# You can also use `global` keyword inside a function\n",
    "# if you have a variable with same name in the scope\n",
    "# of the function but want to access the outer scope's\n",
    "# variable\n",
    "j = 1\n",
    "for i ∈ 1:1\n",
    "    for k ∈ 1:1\n",
    "        global j += 1\n",
    "    end\n",
    "    println(j)\n",
    "end"
   ]
  },
  {
   "cell_type": "markdown",
   "metadata": {},
   "source": [
    "## 10. Types in Julia!!!\n",
    "\n",
    "Types are at the heart of Julia that provide it speed!\n",
    "Static typing allows to reduce the computation time by several orders of magnitude.\n",
    "\n",
    "Describing Julia in the lingo of type systems, it is: dynamic, nominative and parametric\n",
    "\n",
    "Some important properties of types:\n",
    " - Only values, not variables, have types – variables are simply names bound to values\n",
    " - concrete types may not subtype each other: all concrete types are final and may only have abstract types as their supertypes\n",
    "   This means that the function using concrete types can only be passed that type. no other type is a subtype of that type. On the other hand, the function using Abstract types can take as argument any subtype of that abstract type.\n",
    "\n",
    "\n",
    "When appended to an expression computing a value, the `::` operator is read as \"is an instance of\". It can be used anywhere to assert that the value of the expression on the left is an instance of the type on the right. When the type on the right is concrete, the value on the left must have that type as its implementation – recall that all concrete types are final, so no implementation is a subtype of any other. When the type is abstract, it suffices for the value to be implemented by a concrete type that is a subtype of the abstract type. If the type assertion is not true, an exception is thrown, otherwise, the left-hand value is returned"
   ]
  },
  {
   "cell_type": "code",
   "execution_count": 94,
   "metadata": {},
   "outputs": [
    {
     "data": {
      "text/plain": [
       "Int64"
      ]
     },
     "execution_count": 94,
     "metadata": {},
     "output_type": "execute_result"
    }
   ],
   "source": [
    "x = 10\n",
    "typeof(x)"
   ]
  },
  {
   "cell_type": "code",
   "execution_count": 95,
   "metadata": {},
   "outputs": [
    {
     "data": {
      "text/plain": [
       "func (generic function with 1 method)"
      ]
     },
     "execution_count": 95,
     "metadata": {},
     "output_type": "execute_result"
    }
   ],
   "source": [
    "function func(val)::Float64\n",
    "    x::Float64 = val\n",
    "    return val\n",
    "end"
   ]
  },
  {
   "cell_type": "code",
   "execution_count": 96,
   "metadata": {},
   "outputs": [
    {
     "data": {
      "text/plain": [
       "Float64"
      ]
     },
     "execution_count": 96,
     "metadata": {},
     "output_type": "execute_result"
    }
   ],
   "source": [
    "# You can't do something like `x::Int = 10`\n",
    "# because typing in global scope is not allowed\n",
    "y = func(100)\n",
    "typeof(y)"
   ]
  },
  {
   "cell_type": "markdown",
   "metadata": {},
   "source": [
    "### 10.1. Abstract types in Julia\n",
    "\n",
    "Abstract types are declared using the `abstract type` keyword. The general syntaxes for declaring an abstract type are:\n",
    "\n",
    "```julia\n",
    "abstract type «name» end\n",
    "abstract type «name» <: «supertype» end\n",
    "```\n",
    "\n",
    "The abstract type keyword introduces a new abstract type, whose name is given by `«name»`. This name can be optionally followed by `<:` and an already-existing type, indicating that the newly declared abstract type is a subtype of this \"parent\" type.\n",
    "\n",
    "When no supertype is given, the default supertype is `Any` – a predefined abstract type that all objects are instances of and all types are subtypes of. In type theory, `Any` is commonly called \"top\" because it is at the apex of the type graph. Julia also has a predefined abstract \"bottom\" type, at the nadir of the type graph, which is written as `Union{}`. It is the exact opposite of `Any`: no object is an instance of `Union{}` and all types are supertypes of `Union{}`.\n",
    "\n",
    "Let's consider some of the abstract types that make up Julia's numerical hierarchy\n",
    "\n",
    "```julia\n",
    "abstract type Number end\n",
    "abstract type Real     <: Number end\n",
    "abstract type AbstractFloat <: Real end\n",
    "abstract type Integer  <: Real end\n",
    "abstract type Signed   <: Integer end\n",
    "abstract type Unsigned <: Integer end\n",
    "```\n",
    "The `Number` type is a direct child type of `Any`, and `Real` is its child. In turn, `Real` has two children (it has more, but only two are shown here; we'll get to the others later): `Integer` and `AbstractFloat`, separating the world into representations of integers and representations of real numbers. Representations of real numbers include, of course, floating-point types, but also include other types, such as rationals. Hence, `AbstractFloat` is a proper subtype of `Real`, including only floating-point representations of real numbers. `Integers` are further subdivided into `Signed` and `Unsigned` varieties.\n",
    "\n",
    "The `<:` operator in general means \"is a subtype of\", and, used in declarations like this, declares the right-hand type to be an immediate supertype of the newly declared type. It can also be used in expressions as a subtype operator which returns true when its left operand is a subtype of its right operand"
   ]
  },
  {
   "cell_type": "code",
   "execution_count": 97,
   "metadata": {},
   "outputs": [
    {
     "name": "stdout",
     "output_type": "stream",
     "text": [
      "Int <: Number = true\n",
      "Int <: AbstractFloat = false\n"
     ]
    }
   ],
   "source": [
    "@show Int <: Number\n",
    "@show Int <: AbstractFloat;"
   ]
  },
  {
   "cell_type": "markdown",
   "metadata": {},
   "source": [
    "### 10.2. Primitive Types\n",
    "\n",
    "A primitive type is a concrete type whose data consists of plain old bits. Classic examples of primitive types are float and integer types.\n",
    "\n",
    "Unlike most languages, Julia lets you declare your own primitive types, rather than providing only a fixed set of built-in ones\n",
    "\n",
    "The general syntaxes for declaring a primitive type are\n",
    "\n",
    "```julia\n",
    "primitive type «name» «bits» end\n",
    "primitive type «name» <: «supertype» «bits» end\n",
    "```"
   ]
  },
  {
   "cell_type": "code",
   "execution_count": 98,
   "metadata": {},
   "outputs": [],
   "source": [
    "primitive type Tirth <: Number 128 end"
   ]
  },
  {
   "cell_type": "markdown",
   "metadata": {},
   "source": [
    "### 10.3. Composite types and Constructers\n",
    "\n",
    "Julia supports C like `struct`s to provaide an interface for composite types. We can call the `struct` passing it the values it need to construct the structure. This is called the constructure of the type. Let's see some examples"
   ]
  },
  {
   "cell_type": "code",
   "execution_count": 99,
   "metadata": {},
   "outputs": [],
   "source": [
    "struct Entry\n",
    "    key\n",
    "    val::Int64\n",
    "end"
   ]
  },
  {
   "cell_type": "code",
   "execution_count": 100,
   "metadata": {},
   "outputs": [
    {
     "data": {
      "text/plain": [
       "Entry(\"Tirth\", 10)"
      ]
     },
     "execution_count": 100,
     "metadata": {},
     "output_type": "execute_result"
    }
   ],
   "source": [
    "e = Entry(\"Tirth\", 10)"
   ]
  },
  {
   "cell_type": "code",
   "execution_count": 101,
   "metadata": {},
   "outputs": [
    {
     "data": {
      "text/plain": [
       "\"Tirth\""
      ]
     },
     "execution_count": 101,
     "metadata": {},
     "output_type": "execute_result"
    }
   ],
   "source": [
    "e.key"
   ]
  },
  {
   "cell_type": "code",
   "execution_count": 102,
   "metadata": {},
   "outputs": [
    {
     "data": {
      "text/plain": [
       "10"
      ]
     },
     "execution_count": 102,
     "metadata": {},
     "output_type": "execute_result"
    }
   ],
   "source": [
    "e.val"
   ]
  },
  {
   "cell_type": "markdown",
   "metadata": {},
   "source": [
    "### 10.3.1 Intro to Constructors\n",
    "\n",
    "When a type is applied like a function it is called a constructor. Two constructors are generated automatically (these are called default constructors). One accepts any arguments and calls convert to convert them to the types of the fields, and the other accepts arguments that match the field types exactly. The reason both of these are generated is that this makes it easier to add new definitions without inadvertently replacing a default constructor"
   ]
  },
  {
   "cell_type": "code",
   "execution_count": 103,
   "metadata": {},
   "outputs": [
    {
     "ename": "InexactError",
     "evalue": "InexactError: Int64(2.3)",
     "output_type": "error",
     "traceback": [
      "InexactError: Int64(2.3)",
      "",
      "Stacktrace:",
      " [1] Int64 at .\\float.jl:710 [inlined]",
      " [2] convert at .\\number.jl:7 [inlined]",
      " [3] Entry(::String, ::Float64) at .\\In[99]:2",
      " [4] top-level scope at In[103]:1"
     ]
    }
   ],
   "source": [
    "# Doesn't do implicit typecasting\n",
    "Entry(\"Tirth\", 2.3)"
   ]
  },
  {
   "cell_type": "code",
   "execution_count": 104,
   "metadata": {},
   "outputs": [
    {
     "name": "stdout",
     "output_type": "stream",
     "text": [
      "typeof(e) = Entry\n",
      "fieldnames(Entry) = (:key, :val)\n"
     ]
    },
    {
     "data": {
      "text/plain": [
       "(:key, :val)"
      ]
     },
     "execution_count": 104,
     "metadata": {},
     "output_type": "execute_result"
    }
   ],
   "source": [
    "@show typeof(e)\n",
    "@show fieldnames(Entry);"
   ]
  },
  {
   "cell_type": "markdown",
   "metadata": {},
   "source": [
    "#### Note : Composite objects declared with struct are immutable; they cannot be modified after construction\n",
    "\n",
    "An immutable object might contain mutable objects, such as arrays, as fields. Those contained objects will remain mutable; only the fields of the immutable object itself cannot be changed to point to different objects.\n",
    "\n",
    "Where required, mutable composite objects can be declared with the keyword `mutable struct`, to be discussed in the next section\n",
    "\n",
    "Immutable composite types with no fields are singletons; there can be only one instance of such types\n",
    "\n",
    "The `===` function confirms that the \"two\" constructed instances of NoFields are actually one and the same"
   ]
  },
  {
   "cell_type": "code",
   "execution_count": 105,
   "metadata": {},
   "outputs": [],
   "source": [
    "struct NoFields\n",
    "end"
   ]
  },
  {
   "cell_type": "code",
   "execution_count": 106,
   "metadata": {},
   "outputs": [
    {
     "data": {
      "text/plain": [
       "true"
      ]
     },
     "execution_count": 106,
     "metadata": {},
     "output_type": "execute_result"
    }
   ],
   "source": [
    "NoFields() === NoFields()"
   ]
  },
  {
   "cell_type": "markdown",
   "metadata": {},
   "source": [
    "### 10.4 Mutable Composite Types"
   ]
  },
  {
   "cell_type": "code",
   "execution_count": 107,
   "metadata": {},
   "outputs": [],
   "source": [
    "mutable struct VarEntry\n",
    "    key\n",
    "    val::Int64\n",
    "end"
   ]
  },
  {
   "cell_type": "code",
   "execution_count": 108,
   "metadata": {},
   "outputs": [
    {
     "name": "stdout",
     "output_type": "stream",
     "text": [
      "e = VarEntry(\"Tirth\", 1)\n",
      "e.key = \"Tirth\"\n",
      "e.val = 1\n",
      "e.val = 10\n",
      "e = VarEntry(\"Tirth Patel\", 10)\n"
     ]
    }
   ],
   "source": [
    "e = VarEntry(\"Tirth\", 1)\n",
    "@show e\n",
    "\n",
    "@show e.key\n",
    "@show e.val\n",
    "\n",
    "e.val = 10\n",
    "@show e.val\n",
    "e.key = \"Tirth Patel\"\n",
    "@show e;"
   ]
  },
  {
   "cell_type": "markdown",
   "metadata": {},
   "source": [
    "### 10.4.1 Some important points about types and mutable types\n",
    "\n",
    "In order to support mutation, such objects are generally allocated on the heap, and have stable memory addresses. A mutable object is like a little container that might hold different values over time, and so can only be reliably identified with its address. This is the reason `==` would give `false` even if all the field values are the same.\n",
    "\n",
    "In contrast, an instance of an immutable type is associated with specific field values ⇾ the field values alone tell you everything about the object. This is the reason `==` and `===` both return `true` when the field values are the same.\n",
    "\n",
    "In deciding whether to make a type mutable, ask whether two instances with the same field values would be considered identical, or if they might need to change independently over time. If they would be considered identical, the type should probably be immutable"
   ]
  },
  {
   "cell_type": "code",
   "execution_count": 109,
   "metadata": {},
   "outputs": [
    {
     "name": "stdout",
     "output_type": "stream",
     "text": [
      "Entry(\"Tirth\", 1) == Entry(\"Tirth\", 1) = true\n",
      "Entry(\"Tirth\", 1) === Entry(\"Tirth\", 1) = true\n",
      "VarEntry(\"Tirth\", 1) == VarEntry(\"Tirth\", 1) = false\n",
      "VarEntry(\"Tirth\", 1) === VarEntry(\"Tirth\", 1) = false\n"
     ]
    }
   ],
   "source": [
    "@show Entry(\"Tirth\", 1) == Entry(\"Tirth\", 1)\n",
    "@show Entry(\"Tirth\", 1) === Entry(\"Tirth\", 1)\n",
    "@show VarEntry(\"Tirth\", 1) == VarEntry(\"Tirth\", 1)\n",
    "@show VarEntry(\"Tirth\", 1) === VarEntry(\"Tirth\", 1);"
   ]
  },
  {
   "cell_type": "markdown",
   "metadata": {},
   "source": [
    "### 10.4.2 Some final words on types and mutable types in Julia\n",
    "\n",
    "- Immutable types\n",
    "    - small enough immutable values like integers and floats are typically passed to functions in registers (or stack allocated)\n",
    "    - immutable type may be copied freely by the compiler since its immutability makes it impossible to programmatically distinguish between the original object and a copy\n",
    "    - It is not permitted to modify the value of an immutable type\n",
    "- Mutable Types\n",
    "    - heap-allocated and passed to functions as pointers to heap-allocated values\n",
    "    - cannot be copied freely.\n",
    "    - can modify the value"
   ]
  },
  {
   "cell_type": "markdown",
   "metadata": {},
   "source": [
    "### 10.5 Declared Types\n",
    "\n",
    "Every concrete value in the system is an instance of some `DataType`.\n",
    "\n",
    "A `DataType` may be abstract or concrete.\n",
    " - A `primitive type` is a `DataType` with nonzero size, but no field names.\n",
    " - A `composite type` is a `DataType` that has field names or is empty (zero size)"
   ]
  },
  {
   "cell_type": "code",
   "execution_count": 110,
   "metadata": {},
   "outputs": [
    {
     "name": "stdout",
     "output_type": "stream",
     "text": [
      "typeof(Real) = DataType\n",
      "typeof(Int) = DataType\n",
      "typeof(Tirth) = DataType\n"
     ]
    },
    {
     "data": {
      "text/plain": [
       "DataType"
      ]
     },
     "execution_count": 110,
     "metadata": {},
     "output_type": "execute_result"
    }
   ],
   "source": [
    "@show typeof(Real)\n",
    "@show typeof(Int)\n",
    "@show typeof(Tirth);"
   ]
  },
  {
   "cell_type": "markdown",
   "metadata": {},
   "source": [
    "### 10.6 Type Unions\n",
    "\n",
    "`Union{Int, AbstractString}` is a union type that accepts both integer or string. We can declare such union types while typing a function for generating efficient code.\n",
    "\n",
    "The Julia compiler is able to generate efficient code in the presence of Union types with a small number of types, by generating specialized code in separate branches for each possible type.\n",
    "\n",
    "A particularly useful case of a Union type is `Union{T, Nothing}`, where `T` can be any type and Nothing is the singleton type whose only instance is the object `nothing`."
   ]
  },
  {
   "cell_type": "code",
   "execution_count": 111,
   "metadata": {},
   "outputs": [],
   "source": [
    "struct StringOrInt\n",
    "    x::Union{AbstractString, Int64}\n",
    "end"
   ]
  },
  {
   "cell_type": "code",
   "execution_count": 112,
   "metadata": {},
   "outputs": [
    {
     "data": {
      "text/plain": [
       "StringOrInt(1)"
      ]
     },
     "execution_count": 112,
     "metadata": {},
     "output_type": "execute_result"
    }
   ],
   "source": [
    "StringOrInt(1)"
   ]
  },
  {
   "cell_type": "code",
   "execution_count": 113,
   "metadata": {},
   "outputs": [
    {
     "data": {
      "text/plain": [
       "StringOrInt(\"Tirth\")"
      ]
     },
     "execution_count": 113,
     "metadata": {},
     "output_type": "execute_result"
    }
   ],
   "source": [
    "StringOrInt(\"Tirth\")"
   ]
  },
  {
   "cell_type": "code",
   "execution_count": 114,
   "metadata": {},
   "outputs": [
    {
     "ename": "MethodError",
     "evalue": "MethodError: Cannot `convert` an object of type \n  Float64 to an object of type \n  Union{Int64, AbstractString}\nClosest candidates are:\n  convert(::Type{T}, !Matched::T) where T at essentials.jl:171",
     "output_type": "error",
     "traceback": [
      "MethodError: Cannot `convert` an object of type \n  Float64 to an object of type \n  Union{Int64, AbstractString}\nClosest candidates are:\n  convert(::Type{T}, !Matched::T) where T at essentials.jl:171",
      "",
      "Stacktrace:",
      " [1] StringOrInt(::Float64) at .\\In[111]:2",
      " [2] top-level scope at In[114]:1"
     ]
    }
   ],
   "source": [
    "StringOrInt(1.2)"
   ]
  },
  {
   "cell_type": "markdown",
   "metadata": {},
   "source": [
    "### 10.7 Paramatric Types: Like Templates in C++\n",
    "\n",
    "All declared types (the `DataType` variety) can be parameterized, with the same syntax in each case."
   ]
  },
  {
   "cell_type": "code",
   "execution_count": 115,
   "metadata": {},
   "outputs": [],
   "source": [
    "struct Point{T}\n",
    "    x::T\n",
    "    y::T\n",
    "end"
   ]
  },
  {
   "cell_type": "code",
   "execution_count": 133,
   "metadata": {},
   "outputs": [
    {
     "data": {
      "text/plain": [
       "UnionAll"
      ]
     },
     "execution_count": 133,
     "metadata": {},
     "output_type": "execute_result"
    }
   ],
   "source": [
    "typeof(Point) # UnionAll will be discussed later."
   ]
  },
  {
   "cell_type": "code",
   "execution_count": 116,
   "metadata": {},
   "outputs": [
    {
     "name": "stdout",
     "output_type": "stream",
     "text": [
      "Point{Float64} = Point{Float64}\n",
      "Point{String} = Point{String}\n",
      "Point{Float64} <: Point = true\n",
      "Point{String} <: Point = true\n",
      "Point{Int64} <: Point{Float64} = false\n",
      "Point{Float32} <: Point{Float64} = false\n",
      "Point{Float64} <: Point{Real} = false\n"
     ]
    }
   ],
   "source": [
    "@show Point{Float64}\n",
    "@show Point{String}\n",
    "@show Point{Float64} <: Point\n",
    "@show Point{String} <: Point\n",
    "@show Point{Int64} <: Point{Float64}\n",
    "@show Point{Float32} <: Point{Float64}\n",
    "@show Point{Float64} <: Point{Real}; # Careful here!!"
   ]
  },
  {
   "cell_type": "markdown",
   "metadata": {},
   "source": [
    "### 10.7.1 Important Points on Parametric Types\n",
    "\n",
    "While any instance of `Point{Float64}` may conceptually be like an instance of `Point{Real}` as well, the two types have different representations in memory.\n",
    "\n",
    "Since `Point{Float64}` is not a subtype of `Point{Real}`, the following method can't be applied to arguments of type `Point{Float64}`:\n",
    "\n",
    "```julia\n",
    "function dist(x::Point{Real})\n",
    "    return x.x * sqrt(1 + (x.y/x.x)^2)\n",
    "end\n",
    "```\n",
    "\n",
    "A correct way to define a method that accepts all arguments of type `Point{T}` where `T` is a subtype of `Real` is\n",
    "\n",
    "```julia\n",
    "function dist(x::Point{<:Real})\n",
    "    return x.x * sqrt(1 + (x.y/x.x)^2)\n",
    "end\n",
    "```\n",
    "\n",
    "Equivalently, one could also define\n",
    "\n",
    "```julia\n",
    "function dist(x::Point{T} where T<:Real)\n",
    "    return x.x * sqrt(1 + (x.y/x.x)^2)\n",
    "end\n",
    "```"
   ]
  },
  {
   "cell_type": "code",
   "execution_count": 117,
   "metadata": {},
   "outputs": [
    {
     "data": {
      "text/plain": [
       "dist (generic function with 1 method)"
      ]
     },
     "execution_count": 117,
     "metadata": {},
     "output_type": "execute_result"
    }
   ],
   "source": [
    "function dist(x::Point{Real})\n",
    "    return x.x * sqrt(1 + (x.y/x.x)^2)\n",
    "end"
   ]
  },
  {
   "cell_type": "code",
   "execution_count": 118,
   "metadata": {},
   "outputs": [
    {
     "ename": "MethodError",
     "evalue": "MethodError: no method matching dist(::Point{Float64})\nClosest candidates are:\n  dist(!Matched::Point{Real}) at In[117]:2",
     "output_type": "error",
     "traceback": [
      "MethodError: no method matching dist(::Point{Float64})\nClosest candidates are:\n  dist(!Matched::Point{Real}) at In[117]:2",
      "",
      "Stacktrace:",
      " [1] top-level scope at In[118]:1"
     ]
    }
   ],
   "source": [
    "dist(Point{Float64}(1., 2.))"
   ]
  },
  {
   "cell_type": "code",
   "execution_count": 119,
   "metadata": {},
   "outputs": [
    {
     "data": {
      "text/plain": [
       "dist (generic function with 2 methods)"
      ]
     },
     "execution_count": 119,
     "metadata": {},
     "output_type": "execute_result"
    }
   ],
   "source": [
    "function dist(x::Point{<:Real})\n",
    "    return x.x * sqrt(1 + (x.y/x.x)^2)\n",
    "end"
   ]
  },
  {
   "cell_type": "code",
   "execution_count": 120,
   "metadata": {},
   "outputs": [
    {
     "data": {
      "text/plain": [
       "5.0"
      ]
     },
     "execution_count": 120,
     "metadata": {},
     "output_type": "execute_result"
    }
   ],
   "source": [
    "dist(Point{Float64}(3., 4.))"
   ]
  },
  {
   "cell_type": "code",
   "execution_count": 121,
   "metadata": {},
   "outputs": [
    {
     "data": {
      "text/plain": [
       "distalt (generic function with 1 method)"
      ]
     },
     "execution_count": 121,
     "metadata": {},
     "output_type": "execute_result"
    }
   ],
   "source": [
    "function distalt(x::Point{T} where T<:Real)\n",
    "    return x.x * sqrt(1 + (x.y/x.x)^2)\n",
    "end"
   ]
  },
  {
   "cell_type": "code",
   "execution_count": 122,
   "metadata": {},
   "outputs": [
    {
     "data": {
      "text/plain": [
       "5.0"
      ]
     },
     "execution_count": 122,
     "metadata": {},
     "output_type": "execute_result"
    }
   ],
   "source": [
    "distalt(Point{Float64}(3., 4.))"
   ]
  },
  {
   "cell_type": "markdown",
   "metadata": {},
   "source": [
    "### 10.7.2 How does one create point?\n",
    "\n",
    "in the absence of any special constructor declarations, there are two default ways of creating new composite objects, one in which the type parameters are explicitly given and the other in which they are implied by the arguments to the object constructor."
   ]
  },
  {
   "cell_type": "code",
   "execution_count": 123,
   "metadata": {},
   "outputs": [
    {
     "data": {
      "text/plain": [
       "Point{Float64}(1.0, 2.0)"
      ]
     },
     "execution_count": 123,
     "metadata": {},
     "output_type": "execute_result"
    }
   ],
   "source": [
    "# Method 1 : Pass the type parameter and arguments for each field\n",
    "Point{Float64}(1., 2.)"
   ]
  },
  {
   "cell_type": "code",
   "execution_count": 125,
   "metadata": {},
   "outputs": [
    {
     "data": {
      "text/plain": [
       "Point{Float64}(1.0, 2.0)"
      ]
     },
     "execution_count": 125,
     "metadata": {},
     "output_type": "execute_result"
    }
   ],
   "source": [
    "# Method 2 : Pass only arguments for each field and not the type parameter\n",
    "Point(1., 2.)"
   ]
  },
  {
   "cell_type": "code",
   "execution_count": 126,
   "metadata": {},
   "outputs": [
    {
     "ename": "MethodError",
     "evalue": "MethodError: no method matching Point(::Float64, ::Int64)\nClosest candidates are:\n  Point(::T, !Matched::T) where T at In[115]:2",
     "output_type": "error",
     "traceback": [
      "MethodError: no method matching Point(::Float64, ::Int64)\nClosest candidates are:\n  Point(::T, !Matched::T) where T at In[115]:2",
      "",
      "Stacktrace:",
      " [1] top-level scope at In[126]:1"
     ]
    }
   ],
   "source": [
    "# Method 2 will only work if the type is obvious and both arguments are of the same type.\n",
    "# That is, the following code will not work!\n",
    "Point(1.2, 2)\n",
    "# Constructor methods to appropriately handle such mixed cases can be defined,\n",
    "# but that will not be discussed until later on in Constructors."
   ]
  },
  {
   "cell_type": "markdown",
   "metadata": {},
   "source": [
    "### 10.7.3 Abstract parameteric types"
   ]
  },
  {
   "cell_type": "code",
   "execution_count": 127,
   "metadata": {},
   "outputs": [],
   "source": [
    "abstract type Pointy{T} end"
   ]
  },
  {
   "cell_type": "code",
   "execution_count": 134,
   "metadata": {},
   "outputs": [
    {
     "data": {
      "text/plain": [
       "UnionAll"
      ]
     },
     "execution_count": 134,
     "metadata": {},
     "output_type": "execute_result"
    }
   ],
   "source": [
    "typeof(Pointy)"
   ]
  },
  {
   "cell_type": "code",
   "execution_count": 141,
   "metadata": {},
   "outputs": [
    {
     "name": "stdout",
     "output_type": "stream",
     "text": [
      "Pointy{Int64} <: Pointy = true\n",
      "Pointy{String} <: Pointy = true\n",
      "Pointy{Float64} <: Pointy{Real} = false\n",
      "Pointy{Float64} <: Pointy{<:Real} = true\n",
      "Pointy{Real} <: Pointy{>:Float64} = true\n",
      "Pointy{Real} >: Pointy{<:Float64} = false\n",
      "Pointy{Real} >: Pointy{>:Float64} = false\n"
     ]
    }
   ],
   "source": [
    "@show Pointy{Int64} <: Pointy\n",
    "@show Pointy{String} <: Pointy\n",
    "@show Pointy{Float64} <: Pointy{Real}\n",
    "@show Pointy{Float64} <: Pointy{<:Real}\n",
    "@show Pointy{Real} <: Pointy{>:Float64}\n",
    "@show Pointy{Real} >: Pointy{<:Float64}\n",
    "@show Pointy{Real} >: Pointy{>:Float64};"
   ]
  },
  {
   "cell_type": "markdown",
   "metadata": {},
   "source": [
    "### 10.7.3.1 Use of Abstract parametric types\n",
    "\n",
    "Abstract parametric types can be assigned as parents of parametric types which helps build a common interface using that common abstract type."
   ]
  },
  {
   "cell_type": "code",
   "execution_count": 154,
   "metadata": {},
   "outputs": [
    {
     "name": "stdout",
     "output_type": "stream",
     "text": [
      "Point{Float64} <: Pointy{Float64} = true\n",
      "Point{Float64} <: Pointy{Real} = false\n",
      "Point{Float64} <: Pointy{<:Real} = true\n"
     ]
    },
    {
     "name": "stderr",
     "output_type": "stream",
     "text": [
      "WARNING: replacing module one.\n"
     ]
    }
   ],
   "source": [
    "module one\n",
    "\n",
    "abstract type Pointy{T} end\n",
    "struct Point{T} <: Pointy{T}\n",
    "    x::T\n",
    "    y::T\n",
    "end\n",
    "\n",
    "struct DiagPoint{T} <: Pointy{T}\n",
    "    x::T\n",
    "end\n",
    "\n",
    "@show Point{Float64} <: Pointy{Float64}\n",
    "@show Point{Float64} <: Pointy{Real}\n",
    "@show Point{Float64} <: Pointy{<:Real}\n",
    "\n",
    "end;"
   ]
  },
  {
   "cell_type": "code",
   "execution_count": 155,
   "metadata": {},
   "outputs": [
    {
     "name": "stdout",
     "output_type": "stream",
     "text": [
      "Pointy{Float64} = Main.two.Pointy{Float64}\n"
     ]
    },
    {
     "name": "stderr",
     "output_type": "stream",
     "text": [
      "WARNING: replacing module two.\n"
     ]
    },
    {
     "ename": "TypeError",
     "evalue": "TypeError: in Pointy, in T, expected T<:Real, got Type{AbstractString}",
     "output_type": "error",
     "traceback": [
      "TypeError: in Pointy, in T, expected T<:Real, got Type{AbstractString}",
      "",
      "Stacktrace:",
      " [1] top-level scope at show.jl:613"
     ]
    }
   ],
   "source": [
    "module two\n",
    "\n",
    "# There are situations where it may not make sense for type parameters\n",
    "# to range freely over all possible types. In such situations, one can\n",
    "# constrain the range of T like so:\n",
    "abstract type Pointy{T<:Real} end\n",
    "\n",
    "@show Pointy{Float64}\n",
    "@show Pointy{AbstractString}\n",
    "\n",
    "end;"
   ]
  },
  {
   "cell_type": "code",
   "execution_count": 156,
   "metadata": {},
   "outputs": [
    {
     "name": "stderr",
     "output_type": "stream",
     "text": [
      "WARNING: replacing module three.\n"
     ]
    }
   ],
   "source": [
    "module three\n",
    "\n",
    "abstract type Pointy{T} end\n",
    "\n",
    "# Type parameters for parametric composite types can be restricted in the same manner:\n",
    "struct Point{T<:Real} <: Pointy{T}\n",
    "    x::T\n",
    "    y::T\n",
    "end\n",
    "\n",
    "end;"
   ]
  },
  {
   "cell_type": "code",
   "execution_count": null,
   "metadata": {},
   "outputs": [],
   "source": []
  }
 ],
 "metadata": {
  "kernelspec": {
   "display_name": "Julia 1.4.2",
   "language": "julia",
   "name": "julia-1.4"
  },
  "language_info": {
   "file_extension": ".jl",
   "mimetype": "application/julia",
   "name": "julia",
   "version": "1.4.2"
  }
 },
 "nbformat": 4,
 "nbformat_minor": 2
}
