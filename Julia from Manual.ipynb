{
 "cells": [
  {
   "cell_type": "markdown",
   "metadata": {},
   "source": [
    "## 1. Integers and Floating Point Numbers\n",
    "\n",
    "| Types Supported |\n",
    "| --------------- |\n",
    "| `Int8` |\n",
    "| `UInt8` |\n",
    "| `Int16` |\n",
    "| `UInt16` |\n",
    "| `Int32` |\n",
    "| `UInt32` |\n",
    "| `Int64` |\n",
    "| `UInt64` |\n",
    "| `Int128` |\n",
    "| `UInt128` |\n",
    "| `Bool` |\n",
    "| `Float16` |\n",
    "| `Float32` |\n",
    "| `Float64` |"
   ]
  },
  {
   "cell_type": "code",
   "execution_count": 1,
   "metadata": {},
   "outputs": [],
   "source": [
    "using BenchmarkTools"
   ]
  },
  {
   "cell_type": "code",
   "execution_count": 2,
   "metadata": {},
   "outputs": [
    {
     "data": {
      "text/plain": [
       "64"
      ]
     },
     "execution_count": 2,
     "metadata": {},
     "output_type": "execute_result"
    }
   ],
   "source": [
    "Sys.WORD_SIZE  # I have a Win64 system so the output will be => 64"
   ]
  },
  {
   "cell_type": "code",
   "execution_count": 3,
   "metadata": {},
   "outputs": [
    {
     "data": {
      "text/plain": [
       "0xdeadbeef"
      ]
     },
     "metadata": {},
     "output_type": "display_data"
    },
    {
     "data": {
      "text/plain": [
       "0x0a"
      ]
     },
     "metadata": {},
     "output_type": "display_data"
    },
    {
     "data": {
      "text/plain": [
       "\"0000000000000000000000000000000000000000000000000000000001111011\""
      ]
     },
     "metadata": {},
     "output_type": "display_data"
    },
    {
     "data": {
      "text/plain": [
       "\"0000000000000000000000000000000000000000000000000000000000000000\""
      ]
     },
     "metadata": {},
     "output_type": "display_data"
    }
   ],
   "source": [
    "display(0xdeadbeef)        # Hexadecimal numbers\n",
    "display(0b01010)           # Binary number\n",
    "display(bitstring(123))    # Returns the bit string of a integer number\n",
    "display(bitstring(0.0))    # Returns the bitstring of a floating point number"
   ]
  },
  {
   "cell_type": "code",
   "execution_count": 4,
   "metadata": {},
   "outputs": [
    {
     "ename": "DivideError",
     "evalue": "DivideError: integer division error",
     "output_type": "error",
     "traceback": [
      "DivideError: integer division error",
      "",
      "Stacktrace:",
      " [1] rem(::Int64, ::Int64) at .\\int.jl:231",
      " [2] top-level scope at In[4]:1"
     ]
    }
   ],
   "source": [
    "1 % 0 # Throws a divide error"
   ]
  },
  {
   "cell_type": "code",
   "execution_count": 5,
   "metadata": {},
   "outputs": [
    {
     "ename": "DivideError",
     "evalue": "DivideError: integer division error",
     "output_type": "error",
     "traceback": [
      "DivideError: integer division error",
      "",
      "Stacktrace:",
      " [1] rem(::Int64, ::Int64) at .\\int.jl:231",
      " [2] top-level scope at In[5]:1"
     ]
    }
   ],
   "source": [
    "rem(1, 0) # Throws a divide error"
   ]
  },
  {
   "cell_type": "code",
   "execution_count": 6,
   "metadata": {},
   "outputs": [
    {
     "data": {
      "text/plain": [
       "Float16(0.000977)"
      ]
     },
     "metadata": {},
     "output_type": "display_data"
    },
    {
     "data": {
      "text/plain": [
       "1.1920929f-7"
      ]
     },
     "metadata": {},
     "output_type": "display_data"
    },
    {
     "data": {
      "text/plain": [
       "2.220446049250313e-16"
      ]
     },
     "metadata": {},
     "output_type": "display_data"
    }
   ],
   "source": [
    "display(eps(Float16)) # Displays the constant to get the\n",
    "display(eps(Float32)) # next floating point number in the\n",
    "display(eps(Float64)) # of the required bits"
   ]
  },
  {
   "cell_type": "markdown",
   "metadata": {},
   "source": [
    "## Mathematical Operations and Elementary functions\n",
    "\n",
    "| Rounding Functions |\n",
    "| ------------------ |\n",
    "| `round(x)` |\n",
    "| `round(dtype, x)` |\n",
    "| `floor(x)` |\n",
    "| `floor(dtype, x)` |\n",
    "| `ciel(x)` |\n",
    "| `ciel(dtype, x)` |\n",
    "| `trunc(x)` |\n",
    "| `trunc(dtype, x)` |\n",
    "\n",
    "| Division Functions |\n",
    "| ------------------ |\n",
    "|  |"
   ]
  },
  {
   "cell_type": "code",
   "execution_count": 7,
   "metadata": {},
   "outputs": [
    {
     "data": {
      "text/plain": [
       "true"
      ]
     },
     "execution_count": 7,
     "metadata": {},
     "output_type": "execute_result"
    }
   ],
   "source": [
    "0.0 == -0.0 # Value comparision"
   ]
  },
  {
   "cell_type": "code",
   "execution_count": 8,
   "metadata": {},
   "outputs": [
    {
     "data": {
      "text/plain": [
       "false"
      ]
     },
     "execution_count": 8,
     "metadata": {},
     "output_type": "execute_result"
    }
   ],
   "source": [
    "NaN == NaN # NaN is not equal to NaN"
   ]
  },
  {
   "cell_type": "code",
   "execution_count": 9,
   "metadata": {},
   "outputs": [
    {
     "data": {
      "text/plain": [
       "false"
      ]
     },
     "execution_count": 9,
     "metadata": {},
     "output_type": "execute_result"
    }
   ],
   "source": [
    "[1 NaN] == [1 NaN] # So, this also returns false"
   ]
  },
  {
   "cell_type": "code",
   "execution_count": 10,
   "metadata": {},
   "outputs": [
    {
     "data": {
      "text/plain": [
       "true"
      ]
     },
     "execution_count": 10,
     "metadata": {},
     "output_type": "execute_result"
    }
   ],
   "source": [
    "1 < 2 <= 2 < 3 == 3 > 2 >= 1 == 1 > 0 # Expressions can be chained"
   ]
  },
  {
   "cell_type": "code",
   "execution_count": 11,
   "metadata": {},
   "outputs": [
    {
     "data": {
      "text/plain": [
       "1×10 BitArray{2}:\n",
       " 0  1  0  0  0  0  0  0  0  1"
      ]
     },
     "execution_count": 11,
     "metadata": {},
     "output_type": "execute_result"
    }
   ],
   "source": [
    "0 .< [0 1 2 3 4 5 4 3 2 1] .< 2 # Element-wise value comparision"
   ]
  },
  {
   "cell_type": "code",
   "execution_count": 12,
   "metadata": {},
   "outputs": [
    {
     "data": {
      "text/plain": [
       "false"
      ]
     },
     "metadata": {},
     "output_type": "display_data"
    },
    {
     "data": {
      "text/plain": [
       "true"
      ]
     },
     "metadata": {},
     "output_type": "display_data"
    },
    {
     "data": {
      "text/plain": [
       "true"
      ]
     },
     "metadata": {},
     "output_type": "display_data"
    },
    {
     "data": {
      "text/plain": [
       "false"
      ]
     },
     "metadata": {},
     "output_type": "display_data"
    },
    {
     "data": {
      "text/plain": [
       "true"
      ]
     },
     "metadata": {},
     "output_type": "display_data"
    }
   ],
   "source": [
    "# Julia provides additional functions to test numbers for special values,\n",
    "# which can be useful in situations like hash key comparisons\n",
    "display(isequal(0.0, -0.0))                       # Hash Key comparision\n",
    "display(isfinite(10000000000000000000000000.0))   # Is it finite?\n",
    "display(isinf(Inf32))                             # Is it infinite?\n",
    "display(isinf(NaN))                               # Is it infinite?\n",
    "display(isnan(NaN64))"
   ]
  },
  {
   "cell_type": "code",
   "execution_count": 13,
   "metadata": {},
   "outputs": [
    {
     "data": {
      "text/plain": [
       "5×5 Array{Float64,2}:\n",
       " 0.371728  4.62      1.8053     1.1207     0.975388\n",
       " 0.159682  2.80412   0.0176253  1.14287    2.64511\n",
       " 2.17447   3.00108   0.151701   0.285039   0.00846763\n",
       " 0.259641  0.687098  0.572721   0.0588428  5.77203\n",
       " 1.09779   0.113024  0.132189   1.07238    2.15599"
      ]
     },
     "metadata": {},
     "output_type": "display_data"
    },
    {
     "data": {
      "text/plain": [
       "5×5 Array{Float64,2}:\n",
       "  3.06833    1.24835    2.06995    1.0902     5.31477\n",
       "  1.7806     1.83582   -2.10787   -2.72116   -8.06235\n",
       "  0.605521   0.531746   1.9255     0.533077   2.89188\n",
       " -3.73624   -2.02697   -0.399521   1.79602    1.02387\n",
       " -1.04245    1.424      2.62835    0.325448   6.19203"
      ]
     },
     "metadata": {},
     "output_type": "display_data"
    }
   ],
   "source": [
    "f(x) = x^2\n",
    "x = randn(5, 5)\n",
    "display(f.(x))\n",
    "display(f(x))"
   ]
  },
  {
   "cell_type": "code",
   "execution_count": 14,
   "metadata": {},
   "outputs": [],
   "source": [
    "using Base"
   ]
  },
  {
   "cell_type": "code",
   "execution_count": 15,
   "metadata": {},
   "outputs": [
    {
     "name": "stdout",
     "output_type": "stream",
     "text": [
      "11 12 17\n",
      "0 1 1\n"
     ]
    }
   ],
   "source": [
    "println(Base.operator_precedence(:+), \" \", Base.operator_precedence(:*), \" \", Base.operator_precedence(:.))\n",
    "println(Base.operator_precedence(:sin), \" \", Base.operator_precedence(:+=), \" \", Base.operator_precedence(:(=)))"
   ]
  },
  {
   "cell_type": "code",
   "execution_count": 16,
   "metadata": {},
   "outputs": [
    {
     "data": {
      "text/plain": [
       "-4"
      ]
     },
     "execution_count": 16,
     "metadata": {},
     "output_type": "execute_result"
    }
   ],
   "source": [
    "-4 % 5 # true division unlike python which is good :-)"
   ]
  },
  {
   "cell_type": "markdown",
   "metadata": {},
   "source": [
    "## Convertions\n",
    "\n",
    "Julia supports three forms of numerical conversion, which differ in their handling of inexact conversions.\n",
    "\n",
    "The notation T(x) or convert(T,x) converts x to a value of type T.\n",
    "\n",
    " - If T is a floating-point type, the result is the nearest representable value, which could be positive or negative infinity.\n",
    " - If T is an integer type, an InexactError is raised if x is not representable by T.\n",
    " - x % T converts an integer x to a value of integer type T congruent to x modulo 2^n, where n is the number of bits in T. In other words, the binary representation is truncated to fit.\n",
    "\n",
    "The Rounding functions take a type T as an optional argument. For example, round(Int,x) is a shorthand for Int(round(x))."
   ]
  },
  {
   "cell_type": "code",
   "execution_count": 17,
   "metadata": {},
   "outputs": [],
   "source": [
    "import Base:convert"
   ]
  },
  {
   "cell_type": "code",
   "execution_count": 18,
   "metadata": {},
   "outputs": [
    {
     "name": "stdout",
     "output_type": "stream",
     "text": [
      "127 % Int8 = 127\n",
      "128 % Int8 = -128\n",
      "round(Int8, 127.4) = 127\n"
     ]
    },
    {
     "ename": "InexactError",
     "evalue": "InexactError: trunc(Int8, 128.0)",
     "output_type": "error",
     "traceback": [
      "InexactError: trunc(Int8, 128.0)",
      "",
      "Stacktrace:",
      " [1] trunc at .\\float.jl:682 [inlined]",
      " [2] round(::Type{Int8}, ::Float64) at .\\float.jl:367",
      " [3] top-level scope at In[18]:4"
     ]
    }
   ],
   "source": [
    "@show 127 % Int8\n",
    "@show 128 % Int8\n",
    "@show round(Int8,127.4)\n",
    "round(Int8,127.6)"
   ]
  },
  {
   "cell_type": "code",
   "execution_count": 19,
   "metadata": {},
   "outputs": [
    {
     "data": {
      "text/html": [
       "convert(::<b>Type{T}</b>, x::<b>Number</b>)<i> where T<:Number</i> in Base at <a href=\"https://github.com/JuliaLang/julia/tree/44fa15b1502a45eac76c9017af94332d4557b251/base/number.jl#L7\" target=\"_blank\">number.jl:7</a>"
      ],
      "text/plain": [
       "convert(::Type{T}, x::Number) where T<:Number in Base at number.jl:7"
      ]
     },
     "execution_count": 19,
     "metadata": {},
     "output_type": "execute_result"
    }
   ],
   "source": [
    "@which convert(Complex{Int32}, 1+2im)"
   ]
  },
  {
   "cell_type": "code",
   "execution_count": 20,
   "metadata": {},
   "outputs": [
    {
     "data": {
      "text/plain": [
       "convert (generic function with 184 methods)"
      ]
     },
     "execution_count": 20,
     "metadata": {},
     "output_type": "execute_result"
    }
   ],
   "source": [
    "# You can overload convert method with user defined datatypes\n",
    "convert(::Type{Int8}, x::String) = [Number(i) for i in x]"
   ]
  },
  {
   "cell_type": "code",
   "execution_count": 21,
   "metadata": {},
   "outputs": [
    {
     "data": {
      "text/plain": [
       "5-element Array{UInt32,1}:\n",
       " 0x00000074\n",
       " 0x00000069\n",
       " 0x00000072\n",
       " 0x00000074\n",
       " 0x00000068"
      ]
     },
     "execution_count": 21,
     "metadata": {},
     "output_type": "execute_result"
    }
   ],
   "source": [
    "convert(Int8, \"tirth\")"
   ]
  },
  {
   "cell_type": "markdown",
   "metadata": {},
   "source": [
    "## Signed and absolute valued functions\n",
    "\n",
    "| Function | Description |\n",
    "| -------- | ----------- |\n",
    "| `abs(x)` | Abs. |\n",
    "| `abs2(x)` | Absolute value squared! Can be useful for finding euclidean distance. |\n",
    "| `sign(x)` | Sign. |\n",
    "| `signbit(x)` | Indicating weather the signbit is on or off. |\n",
    "| `copysign(x, y)` | A value with magnitude of x and sign of y. |\n",
    "| `flipsign(x, y)` | A value with magnitude of x and sign of x\\*y |"
   ]
  },
  {
   "cell_type": "code",
   "execution_count": 22,
   "metadata": {},
   "outputs": [
    {
     "name": "stdout",
     "output_type": "stream",
     "text": [
      "abs(-3 + 4im) = 5.0\n",
      "abs2(-3 + 4im) = 25\n",
      "sign(-3) = -1\n",
      "sign(3) = 1\n",
      "sign(0) = 0\n",
      "signbit(3) = false\n",
      "signbit(-3) = true\n",
      "copysign(3, -4) = -3\n",
      "flipsign(-3, -4) = 3\n"
     ]
    }
   ],
   "source": [
    "@show abs(-3 + 4im);\n",
    "@show abs2(-3 + 4im);\n",
    "@show sign(-3);\n",
    "@show sign(3);\n",
    "@show sign(0);\n",
    "@show signbit(3);\n",
    "@show signbit(-3);\n",
    "@show copysign(3, -4);\n",
    "@show flipsign(-3, -4);"
   ]
  },
  {
   "cell_type": "markdown",
   "metadata": {},
   "source": [
    "## Complex and Rational Numbers"
   ]
  },
  {
   "cell_type": "code",
   "execution_count": 23,
   "metadata": {},
   "outputs": [
    {
     "name": "stdout",
     "output_type": "stream",
     "text": [
      "(angle(2 + 2im) / pi) * 180 = 45.0\n",
      "sqrt(-1 + 0im) = 0.0 + 1.0im\n",
      "isequal(1, 1 + 0im) = true\n",
      "4 // 8 = 1//2\n",
      "6 // 200 = 3//100\n",
      "5 // 8 * 3 // 12 = 5//32\n",
      "3 // 4 + 2 // 8 = 1//1\n",
      "float(3 // 2) = 1.5\n",
      "isequal(3 // 2, 3 / 2) = true\n",
      "3 // 4 * 10 = 15//2\n",
      "3 // 4 * 10.0 = 7.5\n"
     ]
    }
   ],
   "source": [
    "# New to complex numbers only.\n",
    "@show angle(2 + 2im) / pi * 180\n",
    "@show sqrt(-1 + 0im)\n",
    "@show isequal(1, 1 + 0im)\n",
    "# Rational Numbers and thier unique operations\n",
    "@show 4 // 8\n",
    "@show 6 // 200\n",
    "@show 5 // 8 * 3 // 12\n",
    "@show 3 // 4 + 2 // 8\n",
    "@show float(3 // 2)\n",
    "@show isequal(3 // 2, 3/2);\n",
    "# Floating point numbers have highest precedence.\n",
    "# So, rantional numbers get typecasted to float\n",
    "# when operated with a float. But rational numbers have\n",
    "# a higher precedence than int so they remain rational\n",
    "# when operated with an int.\n",
    "@show 3 // 4 * (10)\n",
    "@show 3 // 4 * (10.);"
   ]
  },
  {
   "cell_type": "markdown",
   "metadata": {},
   "source": [
    "## Strings!!\n",
    "\n",
    "Some things to note:\n",
    " - Strings in Julia support all unicode characters with UTF-8 encoding.\n",
    " - All string types are subtypes of `AbstractString`. If you create a function expecting a string argument, you should declare the type as `AbstractString` in order to accept any string type.\n",
    " - Strings are immutable in Julia! Once assigned, they cannot be changed.\n",
    " - Char is implemented as an `AbstractChar` and is a 32 bit primitive type."
   ]
  },
  {
   "cell_type": "code",
   "execution_count": 24,
   "metadata": {},
   "outputs": [
    {
     "data": {
      "text/plain": [
       "false"
      ]
     },
     "execution_count": 24,
     "metadata": {},
     "output_type": "execute_result"
    }
   ],
   "source": [
    "isvalid(Char, 0x1f0000)"
   ]
  },
  {
   "cell_type": "code",
   "execution_count": 25,
   "metadata": {},
   "outputs": [
    {
     "name": "stdout",
     "output_type": "stream",
     "text": [
      "name[1] = 'T'\n",
      "name[end] = 'l'\n",
      "name[end - 1] = 'e'\n",
      "name[7:9] = \"Pat\"\n",
      "name[7:end] = \"Patel\"\n",
      "name[6:6] = \" \"\n",
      "name[6] = ' '\n",
      "SubString(name, 7, 9) = \"Pat\"\n"
     ]
    }
   ],
   "source": [
    "# Interesting use of `end`\n",
    "name = \"Tirth Patel\"\n",
    "@show name[1]\n",
    "@show name[end]\n",
    "@show name[end-1]\n",
    "# Slicing in Julia!\n",
    "@show name[7:9]   # 8 inclusive!!!!\n",
    "@show name[7:end]\n",
    "# Notice that name[k] and nake[k:k] don't give the same results!\n",
    "@show name[6:6] # string output\n",
    "@show name[6] # char output\n",
    "# SubString is another type of string which sub classes `AbstractString`\n",
    "# and can be created using `SubString`.\n",
    "@show SubString(name, 7, 9);"
   ]
  },
  {
   "cell_type": "code",
   "execution_count": 26,
   "metadata": {},
   "outputs": [
    {
     "data": {
      "text/plain": [
       "String"
      ]
     },
     "execution_count": 26,
     "metadata": {},
     "output_type": "execute_result"
    }
   ],
   "source": [
    "typeof(name[6:9])"
   ]
  },
  {
   "cell_type": "code",
   "execution_count": 27,
   "metadata": {},
   "outputs": [
    {
     "data": {
      "text/plain": [
       "SubString{String}"
      ]
     },
     "execution_count": 27,
     "metadata": {},
     "output_type": "execute_result"
    }
   ],
   "source": [
    "typeof(SubString(name, 6, 9))"
   ]
  },
  {
   "cell_type": "markdown",
   "metadata": {},
   "source": [
    "#### Note : `SubString` creates a VIEW while slicing creates a COPY!"
   ]
  },
  {
   "cell_type": "code",
   "execution_count": 28,
   "metadata": {},
   "outputs": [
    {
     "name": "stdout",
     "output_type": "stream",
     "text": [
      "  88.657 ns (1 allocation: 1008 bytes)\n",
      "  92.364 ns (1 allocation: 32 bytes)\n"
     ]
    }
   ],
   "source": [
    "# This shows that `SubString` creates a view while slicing creates a copy!!\n",
    "str = \"wow this is awesome\" ^ 100\n",
    "@btime str[6:900]\n",
    "@btime SubString(str, 6, 900);"
   ]
  },
  {
   "cell_type": "markdown",
   "metadata": {},
   "source": [
    "### Unicode and UTF-8\n",
    "\n",
    "Whether these Unicode characters are displayed as escapes or shown as special characters depends on your terminal's locale settings and its support for Unicode. String literals are encoded using the UTF-8 encoding. UTF-8 is a variable-width encoding, meaning that not all characters are encoded in the same number of bytes (\"code units\"). In UTF-8, ASCII characters — i.e. those with code points less than 0x80 (128) – are encoded as they are in ASCII, using a single byte, while code points 0x80 and above are encoded using multiple bytes — up to four per character\n",
    "\n",
    "String indices in Julia refer to code units (= bytes for UTF-8), the fixed-width building blocks that are used to encode arbitrary characters (code points). This means that not every index into a `String` is necessarily a valid index for a character. If you index into a string at such an invalid byte index, an error is thrown"
   ]
  },
  {
   "cell_type": "code",
   "execution_count": 29,
   "metadata": {},
   "outputs": [
    {
     "data": {
      "text/plain": [
       "\"∀ x ∃ y\""
      ]
     },
     "execution_count": 29,
     "metadata": {},
     "output_type": "execute_result"
    }
   ],
   "source": [
    "s = \"\\u2200 x \\u2203 y\""
   ]
  },
  {
   "cell_type": "code",
   "execution_count": 30,
   "metadata": {},
   "outputs": [
    {
     "ename": "StringIndexError",
     "evalue": "StringIndexError(\"∀ x ∃ y\", 2)",
     "output_type": "error",
     "traceback": [
      "StringIndexError(\"∀ x ∃ y\", 2)",
      "",
      "Stacktrace:",
      " [1] string_index_err(::String, ::Int64) at .\\strings\\string.jl:12",
      " [2] getindex_continued(::String, ::Int64, ::UInt32) at .\\strings\\string.jl:220",
      " [3] getindex(::String, ::Int64) at .\\strings\\string.jl:213",
      " [4] top-level scope at In[30]:1"
     ]
    }
   ],
   "source": [
    "# Error because In this case, the character ∀ is a three-byte character,\n",
    "# so the indices 2 and 3 are invalid and the next character's index is 4.\n",
    "s[2]"
   ]
  },
  {
   "cell_type": "code",
   "execution_count": 31,
   "metadata": {},
   "outputs": [
    {
     "name": "stdout",
     "output_type": "stream",
     "text": [
      "nextind(s, 1) = 4\n"
     ]
    }
   ],
   "source": [
    "# this next valid index can be computed by nextind(s,1), and the next index after that by nextind(s,4) and so on.\n",
    "@show nextind(s, 1);"
   ]
  },
  {
   "cell_type": "code",
   "execution_count": 32,
   "metadata": {},
   "outputs": [
    {
     "ename": "StringIndexError",
     "evalue": "StringIndexError(\"∀ x ∃ y\", 9)",
     "output_type": "error",
     "traceback": [
      "StringIndexError(\"∀ x ∃ y\", 9)",
      "",
      "Stacktrace:",
      " [1] string_index_err(::String, ::Int64) at .\\strings\\string.jl:12",
      " [2] getindex_continued(::String, ::Int64, ::UInt32) at .\\strings\\string.jl:220",
      " [3] getindex(::String, ::Int64) at .\\strings\\string.jl:213",
      " [4] top-level scope at In[32]:1"
     ]
    }
   ],
   "source": [
    "# Since end is always the last valid index into a collection,\n",
    "# end-1 references an invalid byte index if the second-to-last\n",
    "# character is multibyte\n",
    "s[end-2]"
   ]
  },
  {
   "cell_type": "code",
   "execution_count": 33,
   "metadata": {},
   "outputs": [
    {
     "name": "stdout",
     "output_type": "stream",
     "text": [
      "s[prevind(s, end, 1)] = ' '\n"
     ]
    }
   ],
   "source": [
    "# similarly you can use `prevind`\n",
    "@show s[prevind(s, end, 1)];"
   ]
  },
  {
   "cell_type": "code",
   "execution_count": 34,
   "metadata": {},
   "outputs": [
    {
     "name": "stdout",
     "output_type": "stream",
     "text": [
      "[i for i = s] = ['∀', ' ', 'x', ' ', '∃', ' ', 'y']\n",
      "∀   x   ∃   y "
     ]
    }
   ],
   "source": [
    "# We can also use `firstindex` and `lastindex` in a `for` loop\n",
    "@show [i for i in s]\n",
    "# We can also use `firstindex` and `lastindex` in a big `for` loop!!\n",
    "for i in firstindex(s):lastindex(s)\n",
    "    try\n",
    "        print(s[i], \" \");\n",
    "    catch\n",
    "        # ignore index error\n",
    "    end\n",
    "end"
   ]
  },
  {
   "cell_type": "code",
   "execution_count": 35,
   "metadata": {},
   "outputs": [
    {
     "name": "stdout",
     "output_type": "stream",
     "text": [
      "search: \u001b[0m\u001b[1me\u001b[22m\u001b[0m\u001b[1ma\u001b[22m\u001b[0m\u001b[1mc\u001b[22m\u001b[0m\u001b[1mh\u001b[22m\u001b[0m\u001b[1mi\u001b[22m\u001b[0m\u001b[1mn\u001b[22m\u001b[0m\u001b[1md\u001b[22m\u001b[0m\u001b[1me\u001b[22m\u001b[0m\u001b[1mx\u001b[22m\n",
      "\n"
     ]
    },
    {
     "data": {
      "text/latex": [
       "\\begin{verbatim}\n",
       "eachindex(A...)\n",
       "\\end{verbatim}\n",
       "Create an iterable object for visiting each index of an \\texttt{AbstractArray} \\texttt{A} in an efficient manner. For array types that have opted into fast linear indexing (like \\texttt{Array}), this is simply the range \\texttt{1:length(A)}. For other array types, return a specialized Cartesian range to efficiently index into the array with indices specified for every dimension. For other iterables, including strings and dictionaries, return an iterator object supporting arbitrary index types (e.g. unevenly spaced or non-integer indices).\n",
       "\n",
       "If you supply more than one \\texttt{AbstractArray} argument, \\texttt{eachindex} will create an iterable object that is fast for all arguments (a \\href{@ref}{\\texttt{UnitRange}} if all inputs have fast linear indexing, a \\href{@ref}{\\texttt{CartesianIndices}} otherwise). If the arrays have different sizes and/or dimensionalities, a DimensionMismatch exception will be thrown.\n",
       "\n",
       "\\section{Examples}\n",
       "\\begin{verbatim}\n",
       "julia> A = [1 2; 3 4];\n",
       "\n",
       "julia> for i in eachindex(A) # linear indexing\n",
       "           println(i)\n",
       "       end\n",
       "1\n",
       "2\n",
       "3\n",
       "4\n",
       "\n",
       "julia> for i in eachindex(view(A, 1:2, 1:1)) # Cartesian indexing\n",
       "           println(i)\n",
       "       end\n",
       "CartesianIndex(1, 1)\n",
       "CartesianIndex(2, 1)\n",
       "\\end{verbatim}\n"
      ],
      "text/markdown": [
       "```\n",
       "eachindex(A...)\n",
       "```\n",
       "\n",
       "Create an iterable object for visiting each index of an `AbstractArray` `A` in an efficient manner. For array types that have opted into fast linear indexing (like `Array`), this is simply the range `1:length(A)`. For other array types, return a specialized Cartesian range to efficiently index into the array with indices specified for every dimension. For other iterables, including strings and dictionaries, return an iterator object supporting arbitrary index types (e.g. unevenly spaced or non-integer indices).\n",
       "\n",
       "If you supply more than one `AbstractArray` argument, `eachindex` will create an iterable object that is fast for all arguments (a [`UnitRange`](@ref) if all inputs have fast linear indexing, a [`CartesianIndices`](@ref) otherwise). If the arrays have different sizes and/or dimensionalities, a DimensionMismatch exception will be thrown.\n",
       "\n",
       "# Examples\n",
       "\n",
       "```jldoctest\n",
       "julia> A = [1 2; 3 4];\n",
       "\n",
       "julia> for i in eachindex(A) # linear indexing\n",
       "           println(i)\n",
       "       end\n",
       "1\n",
       "2\n",
       "3\n",
       "4\n",
       "\n",
       "julia> for i in eachindex(view(A, 1:2, 1:1)) # Cartesian indexing\n",
       "           println(i)\n",
       "       end\n",
       "CartesianIndex(1, 1)\n",
       "CartesianIndex(2, 1)\n",
       "```\n"
      ],
      "text/plain": [
       "\u001b[36m  eachindex(A...)\u001b[39m\n",
       "\n",
       "  Create an iterable object for visiting each index of an \u001b[36mAbstractArray\u001b[39m \u001b[36mA\u001b[39m in\n",
       "  an efficient manner. For array types that have opted into fast linear\n",
       "  indexing (like \u001b[36mArray\u001b[39m), this is simply the range \u001b[36m1:length(A)\u001b[39m. For other array\n",
       "  types, return a specialized Cartesian range to efficiently index into the\n",
       "  array with indices specified for every dimension. For other iterables,\n",
       "  including strings and dictionaries, return an iterator object supporting\n",
       "  arbitrary index types (e.g. unevenly spaced or non-integer indices).\n",
       "\n",
       "  If you supply more than one \u001b[36mAbstractArray\u001b[39m argument, \u001b[36meachindex\u001b[39m will create an\n",
       "  iterable object that is fast for all arguments (a \u001b[36mUnitRange\u001b[39m if all inputs\n",
       "  have fast linear indexing, a \u001b[36mCartesianIndices\u001b[39m otherwise). If the arrays have\n",
       "  different sizes and/or dimensionalities, a DimensionMismatch exception will\n",
       "  be thrown.\n",
       "\n",
       "\u001b[1m  Examples\u001b[22m\n",
       "\u001b[1m  ≡≡≡≡≡≡≡≡≡≡\u001b[22m\n",
       "\n",
       "\u001b[36m  julia> A = [1 2; 3 4];\u001b[39m\n",
       "\u001b[36m  \u001b[39m\n",
       "\u001b[36m  julia> for i in eachindex(A) # linear indexing\u001b[39m\n",
       "\u001b[36m             println(i)\u001b[39m\n",
       "\u001b[36m         end\u001b[39m\n",
       "\u001b[36m  1\u001b[39m\n",
       "\u001b[36m  2\u001b[39m\n",
       "\u001b[36m  3\u001b[39m\n",
       "\u001b[36m  4\u001b[39m\n",
       "\u001b[36m  \u001b[39m\n",
       "\u001b[36m  julia> for i in eachindex(view(A, 1:2, 1:1)) # Cartesian indexing\u001b[39m\n",
       "\u001b[36m             println(i)\u001b[39m\n",
       "\u001b[36m         end\u001b[39m\n",
       "\u001b[36m  CartesianIndex(1, 1)\u001b[39m\n",
       "\u001b[36m  CartesianIndex(2, 1)\u001b[39m"
      ]
     },
     "execution_count": 35,
     "metadata": {},
     "output_type": "execute_result"
    }
   ],
   "source": [
    "?eachindex # Returns a `iterable` or `collections` object"
   ]
  },
  {
   "cell_type": "code",
   "execution_count": 36,
   "metadata": {},
   "outputs": [
    {
     "data": {
      "text/plain": [
       "7-element Array{Int64,1}:\n",
       "  1\n",
       "  4\n",
       "  5\n",
       "  6\n",
       "  7\n",
       " 10\n",
       " 11"
      ]
     },
     "execution_count": 36,
     "metadata": {},
     "output_type": "execute_result"
    }
   ],
   "source": [
    "collect(eachindex(s))"
   ]
  },
  {
   "cell_type": "code",
   "execution_count": null,
   "metadata": {},
   "outputs": [],
   "source": []
  },
  {
   "cell_type": "code",
   "execution_count": null,
   "metadata": {},
   "outputs": [],
   "source": []
  }
 ],
 "metadata": {
  "kernelspec": {
   "display_name": "Julia 1.4.2",
   "language": "julia",
   "name": "julia-1.4"
  },
  "language_info": {
   "file_extension": ".jl",
   "mimetype": "application/julia",
   "name": "julia",
   "version": "1.4.2"
  }
 },
 "nbformat": 4,
 "nbformat_minor": 2
}
